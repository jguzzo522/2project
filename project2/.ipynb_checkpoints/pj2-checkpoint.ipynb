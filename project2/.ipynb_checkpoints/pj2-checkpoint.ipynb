{
 "cells": [
  {
   "cell_type": "code",
   "execution_count": 1,
   "id": "db0a2ecd",
   "metadata": {},
   "outputs": [],
   "source": [
    "import pandas as pd\n",
    "import numpy as np\n",
    "import matplotlib.pyplot as plt\n",
    "import scipy.stats as stats\n",
    "import seaborn as sns\n",
    "import statsmodels.api as sm\n",
    "import pandas as pd\n",
    "import numpy as np\n",
    "import seaborn as sns\n",
    "import matplotlib.pyplot as plt\n",
    "\n"
   ]
  },
  {
   "cell_type": "code",
   "execution_count": 2,
   "id": "4c97710c",
   "metadata": {},
   "outputs": [],
   "source": [
    "#Importing the data set from KC house\n",
    "df = pd.read_csv('kc_house_data.csv')"
   ]
  },
  {
   "cell_type": "code",
   "execution_count": 3,
   "id": "4eb1cfdb",
   "metadata": {},
   "outputs": [
    {
     "data": {
      "text/plain": [
       "<bound method NDFrame.head of                id        date      price  bedrooms  bathrooms  sqft_living  \\\n",
       "0      7399300360   5/24/2022   675000.0         4        1.0         1180   \n",
       "1      8910500230  12/13/2021   920000.0         5        2.5         2770   \n",
       "2      1180000275   9/29/2021   311000.0         6        2.0         2880   \n",
       "3      1604601802  12/14/2021   775000.0         3        3.0         2160   \n",
       "4      8562780790   8/24/2021   592500.0         2        2.0         1120   \n",
       "...           ...         ...        ...       ...        ...          ...   \n",
       "30150  7834800180  11/30/2021  1555000.0         5        2.0         1910   \n",
       "30151   194000695   6/16/2021  1313000.0         3        2.0         2020   \n",
       "30152  7960100080   5/27/2022   800000.0         3        2.0         1620   \n",
       "30153  2781280080   2/24/2022   775000.0         3        2.5         2570   \n",
       "30154  9557800100   4/29/2022   500000.0         3        1.5         1200   \n",
       "\n",
       "       sqft_lot  floors waterfront greenbelt  ... sewer_system sqft_above  \\\n",
       "0          7140     1.0         NO        NO  ...       PUBLIC       1180   \n",
       "1          6703     1.0         NO        NO  ...       PUBLIC       1570   \n",
       "2          6156     1.0         NO        NO  ...       PUBLIC       1580   \n",
       "3          1400     2.0         NO        NO  ...       PUBLIC       1090   \n",
       "4           758     2.0         NO        NO  ...       PUBLIC       1120   \n",
       "...         ...     ...        ...       ...  ...          ...        ...   \n",
       "30150      4000     1.5         NO        NO  ...       PUBLIC       1600   \n",
       "30151      5800     2.0         NO        NO  ...       PUBLIC       2020   \n",
       "30152      3600     1.0         NO        NO  ...       PUBLIC        940   \n",
       "30153      2889     2.0         NO        NO  ...       PUBLIC       1830   \n",
       "30154     11058     1.0         NO        NO  ...       PUBLIC       1200   \n",
       "\n",
       "      sqft_basement sqft_garage sqft_patio yr_built  yr_renovated  \\\n",
       "0                 0           0         40     1969             0   \n",
       "1              1570           0        240     1950             0   \n",
       "2              1580           0          0     1956             0   \n",
       "3              1070         200        270     2010             0   \n",
       "4               550         550         30     2012             0   \n",
       "...             ...         ...        ...      ...           ...   \n",
       "30150          1130           0        210     1921             0   \n",
       "30151             0           0        520     2011             0   \n",
       "30152           920         240        110     1995             0   \n",
       "30153           740         480        100     2006             0   \n",
       "30154             0         420          0     1965             0   \n",
       "\n",
       "                                                 address        lat       long  \n",
       "0      2102 Southeast 21st Court, Renton, Washington ...  47.461975 -122.19052  \n",
       "1      11231 Greenwood Avenue North, Seattle, Washing...  47.711525 -122.35591  \n",
       "2      8504 South 113th Street, Seattle, Washington 9...  47.502045 -122.22520  \n",
       "3      4079 Letitia Avenue South, Seattle, Washington...  47.566110 -122.29020  \n",
       "4      2193 Northwest Talus Drive, Issaquah, Washingt...  47.532470 -122.07188  \n",
       "...                                                  ...        ...        ...  \n",
       "30150  4673 Eastern Avenue North, Seattle, Washington...  47.664740 -122.32940  \n",
       "30151  4131 44th Avenue Southwest, Seattle, Washingto...  47.565610 -122.38851  \n",
       "30152  910 Martin Luther King Jr Way, Seattle, Washin...  47.610395 -122.29585  \n",
       "30153  17127 114th Avenue Southeast, Renton, Washingt...  47.449490 -122.18908  \n",
       "30154  18615 7th Avenue South, Burien, Washington 981...  47.435840 -122.32634  \n",
       "\n",
       "[30155 rows x 25 columns]>"
      ]
     },
     "execution_count": 3,
     "metadata": {},
     "output_type": "execute_result"
    }
   ],
   "source": [
    "#Checking to see if the dataset was successfully imported\n",
    "df.head"
   ]
  },
  {
   "cell_type": "code",
   "execution_count": 4,
   "id": "1c7bee00",
   "metadata": {},
   "outputs": [],
   "source": [
    "#Removing intial columns\n",
    "df = df.drop(['date','view','sqft_above','sqft_basement','yr_renovated','address','lat','long', 'yr_built', 'sqft_patio', 'sqft_garage', 'sqft_lot'], axis=1)\n"
   ]
  },
  {
   "cell_type": "code",
   "execution_count": 5,
   "id": "a663ce1e",
   "metadata": {},
   "outputs": [
    {
     "name": "stdout",
     "output_type": "stream",
     "text": [
      "<class 'pandas.core.frame.DataFrame'>\n",
      "RangeIndex: 30155 entries, 0 to 30154\n",
      "Data columns (total 13 columns):\n",
      " #   Column        Non-Null Count  Dtype  \n",
      "---  ------        --------------  -----  \n",
      " 0   id            30155 non-null  int64  \n",
      " 1   price         30155 non-null  float64\n",
      " 2   bedrooms      30155 non-null  int64  \n",
      " 3   bathrooms     30155 non-null  float64\n",
      " 4   sqft_living   30155 non-null  int64  \n",
      " 5   floors        30155 non-null  float64\n",
      " 6   waterfront    30155 non-null  object \n",
      " 7   greenbelt     30155 non-null  object \n",
      " 8   nuisance      30155 non-null  object \n",
      " 9   condition     30155 non-null  object \n",
      " 10  grade         30155 non-null  object \n",
      " 11  heat_source   30123 non-null  object \n",
      " 12  sewer_system  30141 non-null  object \n",
      "dtypes: float64(3), int64(3), object(7)\n",
      "memory usage: 3.0+ MB\n"
     ]
    }
   ],
   "source": [
    "#Looking for numeric columns\n",
    "df.info()"
   ]
  },
  {
   "cell_type": "code",
   "execution_count": 6,
   "id": "1bd0e8ab",
   "metadata": {},
   "outputs": [
    {
     "data": {
      "text/plain": [
       "<bound method NDFrame.head of                id      price  bedrooms  bathrooms  sqft_living  floors  \\\n",
       "0      7399300360   675000.0         4        1.0         1180     1.0   \n",
       "1      8910500230   920000.0         5        2.5         2770     1.0   \n",
       "2      1180000275   311000.0         6        2.0         2880     1.0   \n",
       "3      1604601802   775000.0         3        3.0         2160     2.0   \n",
       "4      8562780790   592500.0         2        2.0         1120     2.0   \n",
       "...           ...        ...       ...        ...          ...     ...   \n",
       "30150  7834800180  1555000.0         5        2.0         1910     1.5   \n",
       "30151   194000695  1313000.0         3        2.0         2020     2.0   \n",
       "30152  7960100080   800000.0         3        2.0         1620     1.0   \n",
       "30153  2781280080   775000.0         3        2.5         2570     2.0   \n",
       "30154  9557800100   500000.0         3        1.5         1200     1.0   \n",
       "\n",
       "      waterfront greenbelt nuisance condition      grade  heat_source  \\\n",
       "0             NO        NO       NO      Good  7 Average          Gas   \n",
       "1             NO        NO      YES   Average  7 Average          Oil   \n",
       "2             NO        NO       NO   Average  7 Average          Gas   \n",
       "3             NO        NO       NO   Average   9 Better          Gas   \n",
       "4             NO        NO      YES   Average  7 Average  Electricity   \n",
       "...          ...       ...      ...       ...        ...          ...   \n",
       "30150         NO        NO       NO      Good     8 Good          Oil   \n",
       "30151         NO        NO       NO   Average  7 Average          Gas   \n",
       "30152         NO        NO      YES   Average  7 Average          Gas   \n",
       "30153         NO        NO       NO   Average     8 Good          Gas   \n",
       "30154         NO        NO       NO   Average  7 Average          Oil   \n",
       "\n",
       "      sewer_system  \n",
       "0           PUBLIC  \n",
       "1           PUBLIC  \n",
       "2           PUBLIC  \n",
       "3           PUBLIC  \n",
       "4           PUBLIC  \n",
       "...            ...  \n",
       "30150       PUBLIC  \n",
       "30151       PUBLIC  \n",
       "30152       PUBLIC  \n",
       "30153       PUBLIC  \n",
       "30154       PUBLIC  \n",
       "\n",
       "[30155 rows x 13 columns]>"
      ]
     },
     "execution_count": 6,
     "metadata": {},
     "output_type": "execute_result"
    }
   ],
   "source": [
    "df.head\n"
   ]
  },
  {
   "cell_type": "code",
   "execution_count": 7,
   "id": "de693862",
   "metadata": {},
   "outputs": [
    {
     "data": {
      "text/plain": [
       "46"
      ]
     },
     "execution_count": 7,
     "metadata": {},
     "output_type": "execute_result"
    }
   ],
   "source": [
    "#Checking for NAN's in the entire Dataframe\n",
    "\n",
    "df.isnull().sum().sum()\n"
   ]
  },
  {
   "cell_type": "code",
   "execution_count": 8,
   "id": "a6aa9e62",
   "metadata": {},
   "outputs": [
    {
     "name": "stdout",
     "output_type": "stream",
     "text": [
      "               id      price  bedrooms  bathrooms  sqft_living  floors  \\\n",
      "0      7399300360   675000.0         4        1.0         1180     1.0   \n",
      "1      8910500230   920000.0         5        2.5         2770     1.0   \n",
      "2      1180000275   311000.0         6        2.0         2880     1.0   \n",
      "3      1604601802   775000.0         3        3.0         2160     2.0   \n",
      "4      8562780790   592500.0         2        2.0         1120     2.0   \n",
      "...           ...        ...       ...        ...          ...     ...   \n",
      "30150  7834800180  1555000.0         5        2.0         1910     1.5   \n",
      "30151   194000695  1313000.0         3        2.0         2020     2.0   \n",
      "30152  7960100080   800000.0         3        2.0         1620     1.0   \n",
      "30153  2781280080   775000.0         3        2.5         2570     2.0   \n",
      "30154  9557800100   500000.0         3        1.5         1200     1.0   \n",
      "\n",
      "      waterfront greenbelt nuisance condition      grade  heat_source  \\\n",
      "0             NO        NO       NO      Good  7 Average          Gas   \n",
      "1             NO        NO      YES   Average  7 Average          Oil   \n",
      "2             NO        NO       NO   Average  7 Average          Gas   \n",
      "3             NO        NO       NO   Average   9 Better          Gas   \n",
      "4             NO        NO      YES   Average  7 Average  Electricity   \n",
      "...          ...       ...      ...       ...        ...          ...   \n",
      "30150         NO        NO       NO      Good     8 Good          Oil   \n",
      "30151         NO        NO       NO   Average  7 Average          Gas   \n",
      "30152         NO        NO      YES   Average  7 Average          Gas   \n",
      "30153         NO        NO       NO   Average     8 Good          Gas   \n",
      "30154         NO        NO       NO   Average  7 Average          Oil   \n",
      "\n",
      "      sewer_system  \n",
      "0           PUBLIC  \n",
      "1           PUBLIC  \n",
      "2           PUBLIC  \n",
      "3           PUBLIC  \n",
      "4           PUBLIC  \n",
      "...            ...  \n",
      "30150       PUBLIC  \n",
      "30151       PUBLIC  \n",
      "30152       PUBLIC  \n",
      "30153       PUBLIC  \n",
      "30154       PUBLIC  \n",
      "\n",
      "[30111 rows x 13 columns]\n"
     ]
    }
   ],
   "source": [
    "# Columns with missing values\n",
    "columns_with_missing = ['heat_source', 'sewer_system']\n",
    "\n",
    "# Remove rows with missing data from specific columns\n",
    "df = df.dropna(subset=columns_with_missing)\n",
    "\n",
    "# Display the cleaned DataFrame to see if the 46 values were removed\n",
    "print(df)\n"
   ]
  },
  {
   "cell_type": "code",
   "execution_count": 9,
   "id": "cb9440a9",
   "metadata": {},
   "outputs": [
    {
     "data": {
      "text/plain": [
       "0"
      ]
     },
     "execution_count": 9,
     "metadata": {},
     "output_type": "execute_result"
    }
   ],
   "source": [
    "#Checking for NAN's removal\n",
    "\n",
    "df.isnull().sum().sum()"
   ]
  },
  {
   "cell_type": "code",
   "execution_count": 10,
   "id": "2794baab",
   "metadata": {},
   "outputs": [
    {
     "name": "stdout",
     "output_type": "stream",
     "text": [
      "0                Gas\n",
      "1                Oil\n",
      "2                Gas\n",
      "3                Gas\n",
      "4        Electricity\n",
      "            ...     \n",
      "30150            Oil\n",
      "30151            Gas\n",
      "30152            Gas\n",
      "30153            Gas\n",
      "30154            Oil\n",
      "Name: heat_source, Length: 30111, dtype: object\n"
     ]
    }
   ],
   "source": [
    "heat_source_column = df['heat_source']\n",
    "print(heat_source_column)"
   ]
  },
  {
   "cell_type": "code",
   "execution_count": 11,
   "id": "8fb2adbf",
   "metadata": {},
   "outputs": [
    {
     "name": "stdout",
     "output_type": "stream",
     "text": [
      "0        PUBLIC\n",
      "1        PUBLIC\n",
      "2        PUBLIC\n",
      "3        PUBLIC\n",
      "4        PUBLIC\n",
      "          ...  \n",
      "30150    PUBLIC\n",
      "30151    PUBLIC\n",
      "30152    PUBLIC\n",
      "30153    PUBLIC\n",
      "30154    PUBLIC\n",
      "Name: sewer_system, Length: 30111, dtype: object\n"
     ]
    }
   ],
   "source": [
    "sewer_system_column = df['sewer_system']\n",
    "print(sewer_system_column)"
   ]
  },
  {
   "cell_type": "code",
   "execution_count": 12,
   "id": "42db4234",
   "metadata": {},
   "outputs": [
    {
     "name": "stdout",
     "output_type": "stream",
     "text": [
      "                  id         price      bedrooms     bathrooms   sqft_living  \\\n",
      "count   3.011100e+04  3.011100e+04  30111.000000  30111.000000  30111.000000   \n",
      "unique           NaN           NaN           NaN           NaN           NaN   \n",
      "top              NaN           NaN           NaN           NaN           NaN   \n",
      "freq             NaN           NaN           NaN           NaN           NaN   \n",
      "mean    4.539171e+09  1.108971e+06      3.415197      2.335708   2113.342798   \n",
      "std     2.882236e+09  8.965158e+05      0.979755      0.888293    973.453260   \n",
      "min     1.000055e+06  2.736000e+04      0.000000      0.000000      3.000000   \n",
      "25%     2.070850e+09  6.492360e+05      3.000000      2.000000   1420.000000   \n",
      "50%     3.876000e+09  8.600000e+05      3.000000      2.500000   1920.000000   \n",
      "75%     7.287100e+09  1.300000e+06      4.000000      3.000000   2620.000000   \n",
      "max     9.904000e+09  3.075000e+07     13.000000     10.500000  15360.000000   \n",
      "\n",
      "              floors waterfront greenbelt nuisance condition      grade  \\\n",
      "count   30111.000000      30111     30111    30111     30111      30111   \n",
      "unique           NaN          2         2        2         5         12   \n",
      "top              NaN         NO        NO       NO   Average  7 Average   \n",
      "freq             NaN      29600     29339    24862     18515      11693   \n",
      "mean        1.543506        NaN       NaN      NaN       NaN        NaN   \n",
      "std         0.567789        NaN       NaN      NaN       NaN        NaN   \n",
      "min         1.000000        NaN       NaN      NaN       NaN        NaN   \n",
      "25%         1.000000        NaN       NaN      NaN       NaN        NaN   \n",
      "50%         1.500000        NaN       NaN      NaN       NaN        NaN   \n",
      "75%         2.000000        NaN       NaN      NaN       NaN        NaN   \n",
      "max         4.000000        NaN       NaN      NaN       NaN        NaN   \n",
      "\n",
      "       heat_source sewer_system  \n",
      "count        30111        30111  \n",
      "unique           7            4  \n",
      "top            Gas       PUBLIC  \n",
      "freq         20576        25767  \n",
      "mean           NaN          NaN  \n",
      "std            NaN          NaN  \n",
      "min            NaN          NaN  \n",
      "25%            NaN          NaN  \n",
      "50%            NaN          NaN  \n",
      "75%            NaN          NaN  \n",
      "max            NaN          NaN  \n"
     ]
    }
   ],
   "source": [
    "# Display summary statistics for all columns, including non-numeric ones\n",
    "summary_stats_all = df.describe(include='all')\n",
    "\n",
    "# Display the summary statistics for all columns\n",
    "print(summary_stats_all)\n"
   ]
  },
  {
   "cell_type": "code",
   "execution_count": 13,
   "id": "8de49d99",
   "metadata": {},
   "outputs": [],
   "source": [
    "# Removing Restricted values for sewer systems\n",
    "sewer_system_values_to_remove = ['PRIVATE RESTRICTED', 'PUBLIC RESTRICTED']\n",
    "df = df[~df['sewer_system'].isin(sewer_system_values_to_remove)]\n",
    "\n"
   ]
  },
  {
   "cell_type": "code",
   "execution_count": 14,
   "id": "69d01ef4",
   "metadata": {},
   "outputs": [
    {
     "name": "stdout",
     "output_type": "stream",
     "text": [
      "['PUBLIC' 'PRIVATE']\n"
     ]
    }
   ],
   "source": [
    "#Checking to see if Restricted values were droped\n",
    "sewer_system_values = df['sewer_system'].unique()\n",
    "print(sewer_system_values)\n"
   ]
  },
  {
   "cell_type": "code",
   "execution_count": 15,
   "id": "810b13e3",
   "metadata": {},
   "outputs": [
    {
     "name": "stdout",
     "output_type": "stream",
     "text": [
      "id                int64\n",
      "price           float64\n",
      "bedrooms          int64\n",
      "bathrooms       float64\n",
      "sqft_living       int64\n",
      "floors          float64\n",
      "waterfront       object\n",
      "greenbelt        object\n",
      "nuisance         object\n",
      "condition        object\n",
      "grade            object\n",
      "heat_source      object\n",
      "sewer_system     object\n",
      "dtype: object\n"
     ]
    }
   ],
   "source": [
    "print(df.dtypes)\n"
   ]
  },
  {
   "cell_type": "code",
   "execution_count": 16,
   "id": "7fadf5b0",
   "metadata": {},
   "outputs": [
    {
     "name": "stdout",
     "output_type": "stream",
     "text": [
      "count    30103.000000\n",
      "mean      2113.454307\n",
      "std        973.429465\n",
      "min          3.000000\n",
      "25%       1420.000000\n",
      "50%       1920.000000\n",
      "75%       2620.000000\n",
      "max      15360.000000\n",
      "Name: sqft_living, dtype: float64\n"
     ]
    }
   ],
   "source": [
    "#sqft_living values\n",
    "\n",
    "\n",
    "# Display summary statistics for the 'sqft_living' column\n",
    "sqft_living_stats = df['sqft_living'].describe()\n",
    "\n",
    "# Print the summary statistics\n",
    "print(sqft_living_stats)"
   ]
  },
  {
   "cell_type": "code",
   "execution_count": 17,
   "id": "0ece9e8d",
   "metadata": {},
   "outputs": [
    {
     "name": "stdout",
     "output_type": "stream",
     "text": [
      "0        1180\n",
      "1        2770\n",
      "2        2880\n",
      "3        2160\n",
      "4        1120\n",
      "         ... \n",
      "30150    1910\n",
      "30151    2020\n",
      "30152    1620\n",
      "30153    2570\n",
      "30154    1200\n",
      "Name: sqft_living, Length: 30040, dtype: int64\n"
     ]
    }
   ],
   "source": [
    "# Remove rows with less than 500 sqft and more than 4000\n",
    "df_cleaned = df[(df['sqft_living'] >= 500)]\n",
    "\n",
    "# Print the filtered DataFrame\n",
    "print(df_cleaned['sqft_living'])"
   ]
  },
  {
   "cell_type": "code",
   "execution_count": 18,
   "id": "9f522e86",
   "metadata": {},
   "outputs": [
    {
     "name": "stdout",
     "output_type": "stream",
     "text": [
      "count    30040.000000\n",
      "mean      2117.028628\n",
      "std        971.305803\n",
      "min        500.000000\n",
      "25%       1420.000000\n",
      "50%       1920.000000\n",
      "75%       2620.000000\n",
      "max      15360.000000\n",
      "Name: sqft_living, dtype: float64\n"
     ]
    }
   ],
   "source": [
    "#checking to see if df_cleaned fits new sqft_living restrictions\n",
    "sqft_living_stats = df_cleaned['sqft_living'].describe()\n",
    "\n",
    "# Print the summary statistics\n",
    "print(sqft_living_stats)"
   ]
  },
  {
   "cell_type": "code",
   "execution_count": 19,
   "id": "62094416",
   "metadata": {},
   "outputs": [
    {
     "name": "stdout",
     "output_type": "stream",
     "text": [
      "count    30040.000000\n",
      "mean         2.338382\n",
      "std          0.886955\n",
      "min          0.000000\n",
      "25%          2.000000\n",
      "50%          2.500000\n",
      "75%          3.000000\n",
      "max         10.500000\n",
      "Name: bathrooms, dtype: float64\n"
     ]
    }
   ],
   "source": [
    "# Display summary statistics for the 'bathroom' column\n",
    "bathrooms_stats = df_cleaned['bathrooms'].describe()\n",
    "\n",
    "# Print the summary statistics\n",
    "print(bathrooms_stats)"
   ]
  },
  {
   "cell_type": "code",
   "execution_count": 20,
   "id": "b5c5fff4",
   "metadata": {},
   "outputs": [
    {
     "name": "stdout",
     "output_type": "stream",
     "text": [
      "0        1.0\n",
      "1        2.5\n",
      "2        2.0\n",
      "3        3.0\n",
      "4        2.0\n",
      "        ... \n",
      "30150    2.0\n",
      "30151    2.0\n",
      "30152    2.0\n",
      "30153    2.5\n",
      "30154    1.5\n",
      "Name: bathrooms, Length: 30074, dtype: float64\n"
     ]
    }
   ],
   "source": [
    "# Remove rows with less than 2 bathrooms and more than 4\n",
    "df_cleaned = df[(df['bathrooms'] >= 1)]\n",
    "print(df_cleaned['bathrooms'])\n"
   ]
  },
  {
   "cell_type": "code",
   "execution_count": 21,
   "id": "6cd73590",
   "metadata": {},
   "outputs": [
    {
     "name": "stdout",
     "output_type": "stream",
     "text": [
      "count    30074.000000\n",
      "mean         2.337916\n",
      "std          0.885775\n",
      "min          1.000000\n",
      "25%          2.000000\n",
      "50%          2.500000\n",
      "75%          3.000000\n",
      "max         10.500000\n",
      "Name: bathrooms, dtype: float64\n"
     ]
    }
   ],
   "source": [
    "# Display summary statistics for the 'bathroom' column\n",
    "bathrooms_stats = df_cleaned['bathrooms'].describe()\n",
    "\n",
    "# Print the summary statistics\n",
    "print(bathrooms_stats)"
   ]
  },
  {
   "cell_type": "code",
   "execution_count": 22,
   "id": "fd4333e6",
   "metadata": {},
   "outputs": [
    {
     "name": "stdout",
     "output_type": "stream",
     "text": [
      "count    3.007400e+04\n",
      "mean     1.109230e+06\n",
      "std      8.968574e+05\n",
      "min      2.736000e+04\n",
      "25%      6.491180e+05\n",
      "50%      8.600000e+05\n",
      "75%      1.300000e+06\n",
      "max      3.075000e+07\n",
      "Name: price, dtype: float64\n"
     ]
    }
   ],
   "source": [
    "# Display summary statistics for the 'price' column\n",
    "price_stats = df_cleaned['price'].describe()\n",
    "\n",
    "# Print the summary statistics\n",
    "print(price_stats)"
   ]
  },
  {
   "cell_type": "code",
   "execution_count": 23,
   "id": "6d4cfb14",
   "metadata": {},
   "outputs": [
    {
     "name": "stdout",
     "output_type": "stream",
     "text": [
      "0         675000.0\n",
      "1         920000.0\n",
      "3         775000.0\n",
      "4         592500.0\n",
      "5         625000.0\n",
      "           ...    \n",
      "30150    1555000.0\n",
      "30151    1313000.0\n",
      "30152     800000.0\n",
      "30153     775000.0\n",
      "30154     500000.0\n",
      "Name: price, Length: 29324, dtype: float64\n"
     ]
    }
   ],
   "source": [
    "# Remove rows with less than $350,000 and more than $1.5 million\n",
    "df_cleaned = df_cleaned[(df_cleaned['price'] >= 350000)]\n",
    "print(df_cleaned['price'])"
   ]
  },
  {
   "cell_type": "code",
   "execution_count": 24,
   "id": "e76cdf01",
   "metadata": {},
   "outputs": [
    {
     "name": "stdout",
     "output_type": "stream",
     "text": [
      "count    2.932400e+04\n",
      "mean     1.131936e+06\n",
      "std      8.966897e+05\n",
      "min      3.500000e+05\n",
      "25%      6.590000e+05\n",
      "50%      8.750000e+05\n",
      "75%      1.317000e+06\n",
      "max      3.075000e+07\n",
      "Name: price, dtype: float64\n"
     ]
    }
   ],
   "source": [
    "# Display summary statistics for the 'price' column\n",
    "price_stats = df_cleaned['price'].describe()\n",
    "\n",
    "# Print the summary statistics\n",
    "print(price_stats)"
   ]
  },
  {
   "cell_type": "code",
   "execution_count": 25,
   "id": "54c29aef",
   "metadata": {},
   "outputs": [
    {
     "name": "stdout",
     "output_type": "stream",
     "text": [
      "count    29324.000000\n",
      "mean         1.548902\n",
      "std          0.567612\n",
      "min          1.000000\n",
      "25%          1.000000\n",
      "50%          1.500000\n",
      "75%          2.000000\n",
      "max          4.000000\n",
      "Name: floors, dtype: float64\n"
     ]
    }
   ],
   "source": [
    "# Display summary statistics for the 'floors' column\n",
    "floors_stats = df_cleaned['floors'].describe()\n",
    "\n",
    "# Print the summary statistics\n",
    "print(floors_stats)"
   ]
  },
  {
   "cell_type": "code",
   "execution_count": 26,
   "id": "652658e7",
   "metadata": {},
   "outputs": [
    {
     "data": {
      "image/png": "[encoded data removed]",
      "text/plain": [
       "<Figure size 1250x1250 with 30 Axes>"
      ]
     },
     "metadata": {},
     "output_type": "display_data"
    }
   ],
   "source": [
    "sns.set(style=\"ticks\")\n",
    "sns.pairplot(df_cleaned[['price', 'bathrooms', 'bedrooms', 'sqft_living', 'floors']])\n",
    "plt.show()"
   ]
  },
  {
   "cell_type": "code",
   "execution_count": 27,
   "id": "e13cd7df",
   "metadata": {},
   "outputs": [
    {
     "name": "stdout",
     "output_type": "stream",
     "text": [
      "Column names: Index(['id', 'price', 'bedrooms', 'bathrooms', 'sqft_living', 'floors',\n",
      "       'waterfront', 'greenbelt', 'nuisance', 'condition', 'grade',\n",
      "       'heat_source', 'sewer_system'],\n",
      "      dtype='object')\n"
     ]
    }
   ],
   "source": [
    "#Reviewing the column_names\n",
    "column_names = df_cleaned.columns\n",
    "\n",
    "print(\"Column names:\", column_names)\n"
   ]
  },
  {
   "cell_type": "code",
   "execution_count": 28,
   "id": "31ba36d8",
   "metadata": {},
   "outputs": [
    {
     "name": "stdout",
     "output_type": "stream",
     "text": [
      "id                int64\n",
      "price           float64\n",
      "bedrooms          int64\n",
      "bathrooms       float64\n",
      "sqft_living       int64\n",
      "floors          float64\n",
      "waterfront       object\n",
      "greenbelt        object\n",
      "nuisance         object\n",
      "condition        object\n",
      "grade            object\n",
      "heat_source      object\n",
      "sewer_system     object\n",
      "dtype: object\n"
     ]
    }
   ],
   "source": [
    "print(df_cleaned.dtypes)"
   ]
  },
  {
   "cell_type": "code",
   "execution_count": 29,
   "id": "898f4dec",
   "metadata": {},
   "outputs": [
    {
     "name": "stdout",
     "output_type": "stream",
     "text": [
      "['NO' 'YES']\n"
     ]
    }
   ],
   "source": [
    "unique_waterfront_values = df_cleaned['waterfront'].unique()\n",
    "print(unique_waterfront_values)\n"
   ]
  },
  {
   "cell_type": "code",
   "execution_count": 30,
   "id": "06c2fbea",
   "metadata": {},
   "outputs": [
    {
     "name": "stdout",
     "output_type": "stream",
     "text": [
      "NO     28827\n",
      "YES      497\n",
      "Name: waterfront, dtype: int64\n"
     ]
    }
   ],
   "source": [
    "waterfront_counts = df_cleaned['waterfront'].value_counts()\n",
    "print(waterfront_counts)\n"
   ]
  },
  {
   "cell_type": "code",
   "execution_count": 31,
   "id": "c73ace8a",
   "metadata": {},
   "outputs": [
    {
     "name": "stdout",
     "output_type": "stream",
     "text": [
      "['Gas' 'Oil' 'Electricity' 'Gas/Solar' 'Electricity/Solar' 'Other'\n",
      " 'Oil/Solar']\n"
     ]
    }
   ],
   "source": [
    "unique_heatsource_values = df_cleaned['heat_source'].unique()\n",
    "print(unique_heatsource_values)\n"
   ]
  },
  {
   "cell_type": "code",
   "execution_count": 32,
   "id": "94253332",
   "metadata": {},
   "outputs": [
    {
     "name": "stdout",
     "output_type": "stream",
     "text": [
      "Gas                  20150\n",
      "Electricity           6233\n",
      "Oil                   2781\n",
      "Gas/Solar               90\n",
      "Electricity/Solar       47\n",
      "Other                   19\n",
      "Oil/Solar                4\n",
      "Name: heat_source, dtype: int64\n"
     ]
    }
   ],
   "source": [
    "unique_heatsource_values = df_cleaned['heat_source'].value_counts()\n",
    "print(unique_heatsource_values)"
   ]
  },
  {
   "cell_type": "code",
   "execution_count": 33,
   "id": "82487c16",
   "metadata": {},
   "outputs": [],
   "source": [
    "# Categories to remove from heat_source\n",
    "unwanted_heat_sources = ['Gas/Solar', 'Electricity/Solar', 'Other', 'Oil/Solar']\n",
    "\n",
    "# Remove rows with unwanted heat_source categories\n",
    "df_cleaned = df_cleaned[~df_cleaned['heat_source'].isin(unwanted_heat_sources)]\n"
   ]
  },
  {
   "cell_type": "code",
   "execution_count": 34,
   "id": "a72f2ca4",
   "metadata": {},
   "outputs": [
    {
     "name": "stdout",
     "output_type": "stream",
     "text": [
      "Gas            20150\n",
      "Electricity     6233\n",
      "Oil             2781\n",
      "Name: heat_source, dtype: int64\n"
     ]
    }
   ],
   "source": [
    "unique_heatsource_values = df_cleaned['heat_source'].value_counts()\n",
    "print(unique_heatsource_values)"
   ]
  },
  {
   "cell_type": "code",
   "execution_count": 35,
   "id": "5e75d37f",
   "metadata": {},
   "outputs": [
    {
     "name": "stdout",
     "output_type": "stream",
     "text": [
      "['Good' 'Average' 'Very Good' 'Poor' 'Fair']\n"
     ]
    }
   ],
   "source": [
    "unique_condition_values = df_cleaned['condition'].unique()\n",
    "print(unique_condition_values)\n"
   ]
  },
  {
   "cell_type": "code",
   "execution_count": 36,
   "id": "9dbac12f",
   "metadata": {},
   "outputs": [
    {
     "name": "stdout",
     "output_type": "stream",
     "text": [
      "Average      17925\n",
      "Good          7810\n",
      "Very Good     3182\n",
      "Fair           199\n",
      "Poor            48\n",
      "Name: condition, dtype: int64\n"
     ]
    }
   ],
   "source": [
    "unique_condition_values = df_cleaned['condition'].value_counts()\n",
    "print(unique_condition_values)"
   ]
  },
  {
   "cell_type": "code",
   "execution_count": 37,
   "id": "77949240",
   "metadata": {},
   "outputs": [
    {
     "name": "stdout",
     "output_type": "stream",
     "text": [
      "NO     24110\n",
      "YES     5054\n",
      "Name: nuisance, dtype: int64\n"
     ]
    }
   ],
   "source": [
    "unique_nuisance_values = df_cleaned['nuisance'].value_counts()\n",
    "print(unique_nuisance_values)"
   ]
  },
  {
   "cell_type": "code",
   "execution_count": 38,
   "id": "0320da2e",
   "metadata": {},
   "outputs": [
    {
     "name": "stdout",
     "output_type": "stream",
     "text": [
      "id                int64\n",
      "price           float64\n",
      "bedrooms          int64\n",
      "bathrooms       float64\n",
      "sqft_living       int64\n",
      "floors          float64\n",
      "waterfront       object\n",
      "greenbelt        object\n",
      "nuisance         object\n",
      "condition        object\n",
      "grade            object\n",
      "heat_source      object\n",
      "sewer_system     object\n",
      "dtype: object\n"
     ]
    }
   ],
   "source": [
    "print(df_cleaned.dtypes)"
   ]
  },
  {
   "cell_type": "code",
   "execution_count": 39,
   "id": "8abff792",
   "metadata": {},
   "outputs": [
    {
     "name": "stdout",
     "output_type": "stream",
     "text": [
      "                            OLS Regression Results                            \n",
      "==============================================================================\n",
      "Dep. Variable:                  price   R-squared:                       0.509\n",
      "Model:                            OLS   Adj. R-squared:                  0.509\n",
      "Method:                 Least Squares   F-statistic:                     1209.\n",
      "Date:                Fri, 18 Aug 2023   Prob (F-statistic):               0.00\n",
      "Time:                        22:11:58   Log-Likelihood:            -4.3070e+05\n",
      "No. Observations:               29164   AIC:                         8.614e+05\n",
      "Df Residuals:                   29138   BIC:                         8.617e+05\n",
      "Df Model:                          25                                         \n",
      "Covariance Type:            nonrobust                                         \n",
      "===========================================================================================\n",
      "                              coef    std err          t      P>|t|      [0.025      0.975]\n",
      "-------------------------------------------------------------------------------------------\n",
      "const                    5.285e+05   1.85e+04     28.585      0.000    4.92e+05    5.65e+05\n",
      "bedrooms                -5.868e+04   5333.733    -11.001      0.000   -6.91e+04   -4.82e+04\n",
      "bathrooms                5.512e+04   7306.989      7.544      0.000    4.08e+04    6.94e+04\n",
      "sqft_living               324.8508      8.057     40.318      0.000     309.058     340.643\n",
      "floors                  -8.739e+04   8104.723    -10.782      0.000   -1.03e+05   -7.15e+04\n",
      "waterfront_NO           -3.332e+05   1.57e+04    -21.187      0.000   -3.64e+05   -3.02e+05\n",
      "waterfront_YES           8.617e+05   1.87e+04     46.079      0.000    8.25e+05    8.98e+05\n",
      "greenbelt_NO             2.989e+05   1.35e+04     22.132      0.000    2.72e+05    3.25e+05\n",
      "greenbelt_YES            2.296e+05   1.61e+04     14.245      0.000    1.98e+05    2.61e+05\n",
      "nuisance_NO              2.143e+05   1.03e+04     20.841      0.000    1.94e+05    2.34e+05\n",
      "nuisance_YES             3.143e+05   1.06e+04     29.543      0.000    2.93e+05    3.35e+05\n",
      "condition_Average        7.106e+04   2.16e+04      3.283      0.001    2.86e+04    1.13e+05\n",
      "condition_Fair           7.674e+04   4.07e+04      1.885      0.059   -3063.326    1.57e+05\n",
      "condition_Good           1.374e+05   2.19e+04      6.284      0.000    9.46e+04     1.8e+05\n",
      "condition_Poor           2.545e+04   7.62e+04      0.334      0.738   -1.24e+05    1.75e+05\n",
      "condition_Very Good      2.179e+05    2.3e+04      9.480      0.000    1.73e+05    2.63e+05\n",
      "grade_10 Very Good       2.723e+04   6.33e+04      0.430      0.667   -9.69e+04    1.51e+05\n",
      "grade_11 Excellent       8.561e+05   6.83e+04     12.537      0.000    7.22e+05     9.9e+05\n",
      "grade_12 Luxury          1.948e+06   8.26e+04     23.591      0.000    1.79e+06    2.11e+06\n",
      "grade_13 Mansion         3.648e+06   1.39e+05     26.305      0.000    3.38e+06    3.92e+06\n",
      "grade_2 Substandard     -6.954e+05   5.83e+05     -1.193      0.233   -1.84e+06    4.47e+05\n",
      "grade_3 Poor            -6.436e+05   2.99e+05     -2.154      0.031   -1.23e+06   -5.78e+04\n",
      "grade_4 Low             -7.883e+05    1.2e+05     -6.570      0.000   -1.02e+06   -5.53e+05\n",
      "grade_5 Fair            -8.594e+05   6.93e+04    -12.396      0.000   -9.95e+05   -7.24e+05\n",
      "grade_6 Low Average     -9.037e+05   6.28e+04    -14.382      0.000   -1.03e+06   -7.81e+05\n",
      "grade_7 Average         -8.857e+05   6.18e+04    -14.337      0.000   -1.01e+06   -7.65e+05\n",
      "grade_8 Good            -7.465e+05   6.16e+04    -12.122      0.000   -8.67e+05   -6.26e+05\n",
      "grade_9 Better          -4.284e+05   6.19e+04     -6.919      0.000    -5.5e+05   -3.07e+05\n",
      "heat_source_Electricity  1.456e+05   9302.036     15.650      0.000    1.27e+05    1.64e+05\n",
      "heat_source_Gas          1.416e+05   8673.490     16.330      0.000    1.25e+05    1.59e+05\n",
      "heat_source_Oil          2.413e+05   1.09e+04     22.096      0.000     2.2e+05    2.63e+05\n",
      "sewer_system_PRIVATE     1.472e+05   1.08e+04     13.620      0.000    1.26e+05    1.68e+05\n",
      "sewer_system_PUBLIC      3.813e+05   1.07e+04     35.533      0.000     3.6e+05    4.02e+05\n",
      "==============================================================================\n",
      "Omnibus:                    41386.735   Durbin-Watson:                   1.810\n",
      "Prob(Omnibus):                  0.000   Jarque-Bera (JB):         48948922.194\n",
      "Skew:                           7.900   Prob(JB):                         0.00\n",
      "Kurtosis:                     203.080   Cond. No.                     3.22e+16\n",
      "==============================================================================\n",
      "\n",
      "Notes:\n",
      "[1] Standard Errors assume that the covariance matrix of the errors is correctly specified.\n",
      "[2] The smallest eigenvalue is 1.54e-22. This might indicate that there are\n",
      "strong multicollinearity problems or that the design matrix is singular.\n"
     ]
    }
   ],
   "source": [
    "import pandas as pd\n",
    "import statsmodels.api as sm\n",
    "\n",
    "# Define the independent variables (including dummy variables)\n",
    "categorical_vars = ['waterfront', 'greenbelt', 'nuisance', 'condition', 'grade', 'heat_source', 'sewer_system']\n",
    "numeric_vars = ['bedrooms', 'bathrooms', 'sqft_living', 'floors']\n",
    "\n",
    "# Create dummy variables for categorical columns (including both YES and NO categories)\n",
    "df_cleaned_dummies = pd.get_dummies(df_cleaned[categorical_vars], drop_first=False)\n",
    "\n",
    "# Combine the dummy variables with the numeric variables\n",
    "X = pd.concat([df_cleaned[numeric_vars], df_cleaned_dummies], axis=1)\n",
    "\n",
    "# Add a constant term to the independent variables matrix\n",
    "X = sm.add_constant(X)\n",
    "\n",
    "# Define the dependent variable (target)\n",
    "y = df_cleaned['price']\n",
    "\n",
    "# Fit the OLS model\n",
    "model = sm.OLS(y, X).fit()\n",
    "\n",
    "# Print the summary of the regression\n",
    "print(model.summary())\n",
    "\n",
    "\n"
   ]
  },
  {
   "cell_type": "code",
   "execution_count": 40,
   "id": "a53f399b",
   "metadata": {},
   "outputs": [
    {
     "name": "stdout",
     "output_type": "stream",
     "text": [
      "                            OLS Regression Results                            \n",
      "==============================================================================\n",
      "Dep. Variable:                  price   R-squared:                       0.509\n",
      "Model:                            OLS   Adj. R-squared:                  0.509\n",
      "Method:                 Least Squares   F-statistic:                     1314.\n",
      "Date:                Fri, 18 Aug 2023   Prob (F-statistic):               0.00\n",
      "Time:                        22:11:58   Log-Likelihood:            -4.3070e+05\n",
      "No. Observations:               29164   AIC:                         8.614e+05\n",
      "Df Residuals:                   29140   BIC:                         8.616e+05\n",
      "Df Model:                          23                                         \n",
      "Covariance Type:            nonrobust                                         \n",
      "===========================================================================================\n",
      "                              coef    std err          t      P>|t|      [0.025      0.975]\n",
      "-------------------------------------------------------------------------------------------\n",
      "const                    5.556e+05   1.62e+04     34.360      0.000    5.24e+05    5.87e+05\n",
      "bedrooms                -5.868e+04   5333.376    -11.003      0.000   -6.91e+04   -4.82e+04\n",
      "bathrooms                5.515e+04   7306.890      7.548      0.000    4.08e+04    6.95e+04\n",
      "sqft_living               325.0170      8.056     40.344      0.000     309.227     340.807\n",
      "floors                  -8.743e+04   8104.602    -10.788      0.000   -1.03e+05   -7.15e+04\n",
      "waterfront_NO           -3.196e+05    1.5e+04    -21.327      0.000   -3.49e+05    -2.9e+05\n",
      "waterfront_YES           8.753e+05   1.82e+04     48.027      0.000     8.4e+05    9.11e+05\n",
      "greenbelt_NO             3.124e+05   1.27e+04     24.668      0.000    2.88e+05    3.37e+05\n",
      "greenbelt_YES            2.432e+05   1.55e+04     15.645      0.000    2.13e+05    2.74e+05\n",
      "nuisance_NO              2.278e+05   9276.061     24.556      0.000     2.1e+05    2.46e+05\n",
      "nuisance_YES             3.279e+05   9624.159     34.066      0.000    3.09e+05    3.47e+05\n",
      "condition_Average        6753.5652   4.11e+04      0.164      0.869   -7.38e+04    8.73e+04\n",
      "condition_Good            7.31e+04   4.13e+04      1.770      0.077   -7839.736    1.54e+05\n",
      "condition_Very Good      1.535e+05   4.22e+04      3.635      0.000    7.07e+04    2.36e+05\n",
      "grade_11 Excellent       8.293e+05   3.61e+04     22.954      0.000    7.58e+05       9e+05\n",
      "grade_12 Luxury          1.921e+06   6.14e+04     31.265      0.000     1.8e+06    2.04e+06\n",
      "grade_13 Mansion         3.621e+06   1.35e+05     26.750      0.000    3.36e+06    3.89e+06\n",
      "grade_3 Poor            -6.959e+05   3.17e+05     -2.193      0.028   -1.32e+06   -7.39e+04\n",
      "grade_4 Low             -8.157e+05   1.16e+05     -7.040      0.000   -1.04e+06   -5.89e+05\n",
      "grade_5 Fair            -8.862e+05    4.3e+04    -20.609      0.000    -9.7e+05   -8.02e+05\n",
      "grade_6 Low Average     -9.298e+05   2.66e+04    -34.928      0.000   -9.82e+05   -8.78e+05\n",
      "grade_7 Average          -9.12e+05   2.24e+04    -40.768      0.000   -9.56e+05   -8.68e+05\n",
      "grade_8 Good            -7.729e+05   2.05e+04    -37.627      0.000   -8.13e+05   -7.33e+05\n",
      "grade_9 Better          -4.549e+05   2.06e+04    -22.049      0.000   -4.95e+05   -4.15e+05\n",
      "heat_source_Electricity  1.545e+05   8981.590     17.206      0.000    1.37e+05    1.72e+05\n",
      "heat_source_Gas          1.507e+05   8154.842     18.480      0.000    1.35e+05    1.67e+05\n",
      "heat_source_Oil          2.504e+05   1.03e+04     24.200      0.000     2.3e+05    2.71e+05\n",
      "sewer_system_PRIVATE     1.607e+05   9807.725     16.385      0.000    1.41e+05     1.8e+05\n",
      "sewer_system_PUBLIC      3.949e+05   9778.634     40.388      0.000    3.76e+05    4.14e+05\n",
      "==============================================================================\n",
      "Omnibus:                    41383.898   Durbin-Watson:                   1.810\n",
      "Prob(Omnibus):                  0.000   Jarque-Bera (JB):         48936670.752\n",
      "Skew:                           7.899   Prob(JB):                         0.00\n",
      "Kurtosis:                     203.055   Cond. No.                     2.87e+17\n",
      "==============================================================================\n",
      "\n",
      "Notes:\n",
      "[1] Standard Errors assume that the covariance matrix of the errors is correctly specified.\n",
      "[2] The smallest eigenvalue is 1.93e-24. This might indicate that there are\n",
      "strong multicollinearity problems or that the design matrix is singular.\n"
     ]
    }
   ],
   "source": [
    "# Iterate through the p-values in the summary table and drop columns with p-values > 0.05\n",
    "columns_to_drop = []\n",
    "for column, p_value in model.pvalues.items():\n",
    "    if column != 'const' and p_value > 0.05:\n",
    "        columns_to_drop.append(column)\n",
    "\n",
    "# Drop the columns with high p-values\n",
    "X_filtered = X.drop(columns=columns_to_drop)\n",
    "\n",
    "# Fit the OLS model with the filtered dataset\n",
    "model_filtered = sm.OLS(y, X_filtered).fit()\n",
    "\n",
    "# Print the summary of the filtered regression\n",
    "print(model_filtered.summary())\n"
   ]
  },
  {
   "cell_type": "code",
   "execution_count": 41,
   "id": "6943f190",
   "metadata": {},
   "outputs": [
    {
     "name": "stdout",
     "output_type": "stream",
     "text": [
      "Index(['id', 'price', 'bedrooms', 'bathrooms', 'sqft_living', 'floors',\n",
      "       'waterfront', 'greenbelt', 'nuisance', 'condition', 'grade',\n",
      "       'heat_source', 'sewer_system'],\n",
      "      dtype='object')\n"
     ]
    }
   ],
   "source": [
    "columns_to_drop.append('condition_average')\n",
    "print(df_cleaned.columns)\n"
   ]
  },
  {
   "cell_type": "code",
   "execution_count": 42,
   "id": "a8594f6f",
   "metadata": {},
   "outputs": [
    {
     "name": "stdout",
     "output_type": "stream",
     "text": [
      "                            OLS Regression Results                            \n",
      "==============================================================================\n",
      "Dep. Variable:                  price   R-squared:                       0.509\n",
      "Model:                            OLS   Adj. R-squared:                  0.509\n",
      "Method:                 Least Squares   F-statistic:                     1373.\n",
      "Date:                Fri, 18 Aug 2023   Prob (F-statistic):               0.00\n",
      "Time:                        22:11:59   Log-Likelihood:            -4.3070e+05\n",
      "No. Observations:               29164   AIC:                         8.614e+05\n",
      "Df Residuals:                   29141   BIC:                         8.616e+05\n",
      "Df Model:                          22                                         \n",
      "Covariance Type:            nonrobust                                         \n",
      "===========================================================================================\n",
      "                              coef    std err          t      P>|t|      [0.025      0.975]\n",
      "-------------------------------------------------------------------------------------------\n",
      "const                    5.576e+05    1.1e+04     50.907      0.000    5.36e+05    5.79e+05\n",
      "bedrooms                 -5.87e+04   5332.634    -11.007      0.000   -6.91e+04   -4.82e+04\n",
      "bathrooms                5.518e+04   7304.262      7.555      0.000    4.09e+04    6.95e+04\n",
      "sqft_living               325.0090      8.056     40.344      0.000     309.219     340.799\n",
      "floors                  -8.741e+04   8103.612    -10.786      0.000   -1.03e+05   -7.15e+04\n",
      "waterfront_NO           -3.186e+05   1.35e+04    -23.554      0.000   -3.45e+05   -2.92e+05\n",
      "waterfront_YES           8.761e+05   1.74e+04     50.373      0.000    8.42e+05     9.1e+05\n",
      "greenbelt_NO             3.134e+05   1.12e+04     27.968      0.000    2.91e+05    3.35e+05\n",
      "greenbelt_YES            2.442e+05   1.43e+04     17.024      0.000    2.16e+05    2.72e+05\n",
      "nuisance_NO              2.288e+05   7011.329     32.631      0.000    2.15e+05    2.43e+05\n",
      "nuisance_YES             3.288e+05   7662.537     42.911      0.000    3.14e+05    3.44e+05\n",
      "condition_Good           6.647e+04   8936.559      7.438      0.000     4.9e+04     8.4e+04\n",
      "condition_Very Good      1.469e+05   1.26e+04     11.701      0.000    1.22e+05    1.71e+05\n",
      "grade_11 Excellent       8.293e+05   3.61e+04     22.955      0.000    7.59e+05       9e+05\n",
      "grade_12 Luxury          1.921e+06   6.14e+04     31.265      0.000     1.8e+06    2.04e+06\n",
      "grade_13 Mansion         3.621e+06   1.35e+05     26.751      0.000    3.36e+06    3.89e+06\n",
      "grade_3 Poor            -7.025e+05   3.15e+05     -2.232      0.026   -1.32e+06   -8.56e+04\n",
      "grade_4 Low             -8.167e+05   1.16e+05     -7.058      0.000   -1.04e+06    -5.9e+05\n",
      "grade_5 Fair            -8.867e+05   4.29e+04    -20.665      0.000   -9.71e+05   -8.03e+05\n",
      "grade_6 Low Average     -9.299e+05   2.66e+04    -34.955      0.000   -9.82e+05   -8.78e+05\n",
      "grade_7 Average         -9.121e+05   2.24e+04    -40.775      0.000   -9.56e+05   -8.68e+05\n",
      "grade_8 Good            -7.729e+05   2.05e+04    -37.628      0.000   -8.13e+05   -7.33e+05\n",
      "grade_9 Better           -4.55e+05   2.06e+04    -22.050      0.000   -4.95e+05   -4.15e+05\n",
      "heat_source_Electricity  1.552e+05   7946.145     19.535      0.000     1.4e+05    1.71e+05\n",
      "heat_source_Gas          1.514e+05   7004.971     21.611      0.000    1.38e+05    1.65e+05\n",
      "heat_source_Oil           2.51e+05   9724.191     25.810      0.000    2.32e+05     2.7e+05\n",
      "sewer_system_PRIVATE     1.616e+05   7931.723     20.380      0.000    1.46e+05    1.77e+05\n",
      "sewer_system_PUBLIC      3.959e+05   7620.419     51.958      0.000    3.81e+05    4.11e+05\n",
      "==============================================================================\n",
      "Omnibus:                    41384.294   Durbin-Watson:                   1.810\n",
      "Prob(Omnibus):                  0.000   Jarque-Bera (JB):         48939599.458\n",
      "Skew:                           7.900   Prob(JB):                         0.00\n",
      "Kurtosis:                     203.061   Cond. No.                     3.97e+17\n",
      "==============================================================================\n",
      "\n",
      "Notes:\n",
      "[1] Standard Errors assume that the covariance matrix of the errors is correctly specified.\n",
      "[2] The smallest eigenvalue is 1.01e-24. This might indicate that there are\n",
      "strong multicollinearity problems or that the design matrix is singular.\n"
     ]
    }
   ],
   "source": [
    "\n",
    "# Define the independent variables (including dummy variables)\n",
    "categorical_vars = ['waterfront', 'greenbelt', 'nuisance', 'condition', 'grade', 'heat_source', 'sewer_system']\n",
    "numeric_vars = ['bedrooms', 'bathrooms', 'sqft_living', 'floors']\n",
    "\n",
    "# Create dummy variables for categorical columns (including both YES and NO categories)\n",
    "df_cleaned_dummies = pd.get_dummies(df_cleaned[categorical_vars], drop_first=False)\n",
    "\n",
    "# Combine the dummy variables with the numeric variables\n",
    "X = pd.concat([df_cleaned[numeric_vars], df_cleaned_dummies], axis=1)\n",
    "\n",
    "# Add a constant term to the independent variables matrix\n",
    "X = sm.add_constant(X)\n",
    "\n",
    "# Define the dependent variable (target)\n",
    "y = df_cleaned['price']\n",
    "\n",
    "# Fit the OLS model\n",
    "model = sm.OLS(y, X).fit()\n",
    "\n",
    "# Iterate through each variable and its p-value, dropping if p-value > 0.05\n",
    "for var, p_value in model.pvalues.items():\n",
    "    if p_value > 0.05 or var == 'condition_Average':\n",
    "        X = X.drop(columns=[var])\n",
    "\n",
    "# Fit the OLS model again with the modified DataFrame\n",
    "model = sm.OLS(y, X).fit()\n",
    "\n",
    "# Print the summary of the regression\n",
    "print(model.summary())\n"
   ]
  },
  {
   "cell_type": "code",
   "execution_count": null,
   "id": "ac96ea50",
   "metadata": {},
   "outputs": [],
   "source": [
    "# From here we should try to play wiht the log \n",
    "ff"
   ]
  },
  {
   "cell_type": "code",
   "execution_count": 43,
   "id": "dd542244",
   "metadata": {},
   "outputs": [
    {
     "ename": "ValueError",
     "evalue": "Pandas data cast to numpy dtype of object. Check input data with np.asarray(data). The types seen wereNone and const              float64\nid                   int64\nbedrooms             int64\nbathrooms          float64\nsqft_living          int64\nfloors             float64\nwaterfront          object\ngreenbelt           object\nnuisance            object\ncondition           object\ngrade               object\nheat_source         object\nsewer_system        object\nsqft_living_log    float64\ndtype: object. The data was\n0         675000.0\n1         920000.0\n3         775000.0\n4         592500.0\n5         625000.0\n           ...    \n30150    1555000.0\n30151    1313000.0\n30152     800000.0\n30153     775000.0\n30154     500000.0\nName: price, Length: 29164, dtype: float64\nand\n        const          id  bedrooms  bathrooms  sqft_living  floors waterfront  \\\n0        1.0  7399300360         4        1.0         1180     1.0         NO   \n1        1.0  8910500230         5        2.5         2770     1.0         NO   \n3        1.0  1604601802         3        3.0         2160     2.0         NO   \n4        1.0  8562780790         2        2.0         1120     2.0         NO   \n5        1.0  2807100156         2        1.0         1190     1.0         NO   \n...      ...         ...       ...        ...          ...     ...        ...   \n30150    1.0  7834800180         5        2.0         1910     1.5         NO   \n30151    1.0   194000695         3        2.0         2020     2.0         NO   \n30152    1.0  7960100080         3        2.0         1620     1.0         NO   \n30153    1.0  2781280080         3        2.5         2570     2.0         NO   \n30154    1.0  9557800100         3        1.5         1200     1.0         NO   \n\n      greenbelt nuisance condition      grade  heat_source sewer_system  \\\n0            NO       NO      Good  7 Average          Gas       PUBLIC   \n1            NO      YES   Average  7 Average          Oil       PUBLIC   \n3            NO       NO   Average   9 Better          Gas       PUBLIC   \n4            NO      YES   Average  7 Average  Electricity       PUBLIC   \n5            NO      YES   Average  7 Average  Electricity       PUBLIC   \n...         ...      ...       ...        ...          ...          ...   \n30150        NO       NO      Good     8 Good          Oil       PUBLIC   \n30151        NO       NO   Average  7 Average          Gas       PUBLIC   \n30152        NO      YES   Average  7 Average          Gas       PUBLIC   \n30153        NO       NO   Average     8 Good          Gas       PUBLIC   \n30154        NO       NO   Average  7 Average          Oil       PUBLIC   \n\n       sqft_living_log  \n0             7.073270  \n1             7.926603  \n3             7.677864  \n4             7.021084  \n5             7.081709  \n...                ...  \n30150         7.554859  \n30151         7.610853  \n30152         7.390181  \n30153         7.851661  \n30154         7.090077  \n\n[29164 rows x 14 columns]\nbefore. After,\n[675000. 920000. 775000. ... 800000. 775000. 500000.]\n[[1.0 7399300360 4 ... 'Gas' 'PUBLIC' 7.07326971745971]\n [1.0 8910500230 5 ... 'Oil' 'PUBLIC' 7.926602599181384]\n [1.0 1604601802 3 ... 'Gas' 'PUBLIC' 7.67786350067821]\n ...\n [1.0 7960100080 3 ... 'Gas' 'PUBLIC' 7.3901814282264295]\n [1.0 2781280080 3 ... 'Gas' 'PUBLIC' 7.851661177889265]\n [1.0 9557800100 3 ... 'Oil' 'PUBLIC' 7.090076835776092]].",
     "output_type": "error",
     "traceback": [
      "\u001b[0;31m---------------------------------------------------------------------------\u001b[0m",
      "\u001b[0;31mValueError\u001b[0m                                Traceback (most recent call last)",
      "Cell \u001b[0;32mIn[43], line 20\u001b[0m\n\u001b[1;32m     17\u001b[0m X \u001b[38;5;241m=\u001b[39m sm\u001b[38;5;241m.\u001b[39madd_constant(X)\n\u001b[1;32m     19\u001b[0m \u001b[38;5;66;03m# Fit the multiple linear regression model\u001b[39;00m\n\u001b[0;32m---> 20\u001b[0m model \u001b[38;5;241m=\u001b[39m \u001b[43msm\u001b[49m\u001b[38;5;241;43m.\u001b[39;49m\u001b[43mOLS\u001b[49m\u001b[43m(\u001b[49m\u001b[43my\u001b[49m\u001b[43m,\u001b[49m\u001b[43m \u001b[49m\u001b[43mX\u001b[49m\u001b[43m)\u001b[49m\u001b[38;5;241m.\u001b[39mfit()\n\u001b[1;32m     22\u001b[0m \u001b[38;5;66;03m# Get the coefficients from the model\u001b[39;00m\n\u001b[1;32m     23\u001b[0m coefficients \u001b[38;5;241m=\u001b[39m model\u001b[38;5;241m.\u001b[39mparams\n",
      "File \u001b[0;32m~/anaconda3/envs/learn-env/lib/python3.8/site-packages/statsmodels/regression/linear_model.py:906\u001b[0m, in \u001b[0;36mOLS.__init__\u001b[0;34m(self, endog, exog, missing, hasconst, **kwargs)\u001b[0m\n\u001b[1;32m    903\u001b[0m     msg \u001b[38;5;241m=\u001b[39m (\u001b[38;5;124m\"\u001b[39m\u001b[38;5;124mWeights are not supported in OLS and will be ignored\u001b[39m\u001b[38;5;124m\"\u001b[39m\n\u001b[1;32m    904\u001b[0m            \u001b[38;5;124m\"\u001b[39m\u001b[38;5;124mAn exception will be raised in the next version.\u001b[39m\u001b[38;5;124m\"\u001b[39m)\n\u001b[1;32m    905\u001b[0m     warnings\u001b[38;5;241m.\u001b[39mwarn(msg, ValueWarning)\n\u001b[0;32m--> 906\u001b[0m \u001b[38;5;28;43msuper\u001b[39;49m\u001b[43m(\u001b[49m\u001b[43mOLS\u001b[49m\u001b[43m,\u001b[49m\u001b[43m \u001b[49m\u001b[38;5;28;43mself\u001b[39;49m\u001b[43m)\u001b[49m\u001b[38;5;241;43m.\u001b[39;49m\u001b[38;5;21;43m__init__\u001b[39;49m\u001b[43m(\u001b[49m\u001b[43mendog\u001b[49m\u001b[43m,\u001b[49m\u001b[43m \u001b[49m\u001b[43mexog\u001b[49m\u001b[43m,\u001b[49m\u001b[43m \u001b[49m\u001b[43mmissing\u001b[49m\u001b[38;5;241;43m=\u001b[39;49m\u001b[43mmissing\u001b[49m\u001b[43m,\u001b[49m\n\u001b[1;32m    907\u001b[0m \u001b[43m                          \u001b[49m\u001b[43mhasconst\u001b[49m\u001b[38;5;241;43m=\u001b[39;49m\u001b[43mhasconst\u001b[49m\u001b[43m,\u001b[49m\u001b[43m \u001b[49m\u001b[38;5;241;43m*\u001b[39;49m\u001b[38;5;241;43m*\u001b[39;49m\u001b[43mkwargs\u001b[49m\u001b[43m)\u001b[49m\n\u001b[1;32m    908\u001b[0m \u001b[38;5;28;01mif\u001b[39;00m \u001b[38;5;124m\"\u001b[39m\u001b[38;5;124mweights\u001b[39m\u001b[38;5;124m\"\u001b[39m \u001b[38;5;129;01min\u001b[39;00m \u001b[38;5;28mself\u001b[39m\u001b[38;5;241m.\u001b[39m_init_keys:\n\u001b[1;32m    909\u001b[0m     \u001b[38;5;28mself\u001b[39m\u001b[38;5;241m.\u001b[39m_init_keys\u001b[38;5;241m.\u001b[39mremove(\u001b[38;5;124m\"\u001b[39m\u001b[38;5;124mweights\u001b[39m\u001b[38;5;124m\"\u001b[39m)\n",
      "File \u001b[0;32m~/anaconda3/envs/learn-env/lib/python3.8/site-packages/statsmodels/regression/linear_model.py:733\u001b[0m, in \u001b[0;36mWLS.__init__\u001b[0;34m(self, endog, exog, weights, missing, hasconst, **kwargs)\u001b[0m\n\u001b[1;32m    731\u001b[0m \u001b[38;5;28;01melse\u001b[39;00m:\n\u001b[1;32m    732\u001b[0m     weights \u001b[38;5;241m=\u001b[39m weights\u001b[38;5;241m.\u001b[39msqueeze()\n\u001b[0;32m--> 733\u001b[0m \u001b[38;5;28;43msuper\u001b[39;49m\u001b[43m(\u001b[49m\u001b[43mWLS\u001b[49m\u001b[43m,\u001b[49m\u001b[43m \u001b[49m\u001b[38;5;28;43mself\u001b[39;49m\u001b[43m)\u001b[49m\u001b[38;5;241;43m.\u001b[39;49m\u001b[38;5;21;43m__init__\u001b[39;49m\u001b[43m(\u001b[49m\u001b[43mendog\u001b[49m\u001b[43m,\u001b[49m\u001b[43m \u001b[49m\u001b[43mexog\u001b[49m\u001b[43m,\u001b[49m\u001b[43m \u001b[49m\u001b[43mmissing\u001b[49m\u001b[38;5;241;43m=\u001b[39;49m\u001b[43mmissing\u001b[49m\u001b[43m,\u001b[49m\n\u001b[1;32m    734\u001b[0m \u001b[43m                          \u001b[49m\u001b[43mweights\u001b[49m\u001b[38;5;241;43m=\u001b[39;49m\u001b[43mweights\u001b[49m\u001b[43m,\u001b[49m\u001b[43m \u001b[49m\u001b[43mhasconst\u001b[49m\u001b[38;5;241;43m=\u001b[39;49m\u001b[43mhasconst\u001b[49m\u001b[43m,\u001b[49m\u001b[43m \u001b[49m\u001b[38;5;241;43m*\u001b[39;49m\u001b[38;5;241;43m*\u001b[39;49m\u001b[43mkwargs\u001b[49m\u001b[43m)\u001b[49m\n\u001b[1;32m    735\u001b[0m nobs \u001b[38;5;241m=\u001b[39m \u001b[38;5;28mself\u001b[39m\u001b[38;5;241m.\u001b[39mexog\u001b[38;5;241m.\u001b[39mshape[\u001b[38;5;241m0\u001b[39m]\n\u001b[1;32m    736\u001b[0m weights \u001b[38;5;241m=\u001b[39m \u001b[38;5;28mself\u001b[39m\u001b[38;5;241m.\u001b[39mweights\n",
      "File \u001b[0;32m~/anaconda3/envs/learn-env/lib/python3.8/site-packages/statsmodels/regression/linear_model.py:190\u001b[0m, in \u001b[0;36mRegressionModel.__init__\u001b[0;34m(self, endog, exog, **kwargs)\u001b[0m\n\u001b[1;32m    189\u001b[0m \u001b[38;5;28;01mdef\u001b[39;00m \u001b[38;5;21m__init__\u001b[39m(\u001b[38;5;28mself\u001b[39m, endog, exog, \u001b[38;5;241m*\u001b[39m\u001b[38;5;241m*\u001b[39mkwargs):\n\u001b[0;32m--> 190\u001b[0m     \u001b[38;5;28;43msuper\u001b[39;49m\u001b[43m(\u001b[49m\u001b[43mRegressionModel\u001b[49m\u001b[43m,\u001b[49m\u001b[43m \u001b[49m\u001b[38;5;28;43mself\u001b[39;49m\u001b[43m)\u001b[49m\u001b[38;5;241;43m.\u001b[39;49m\u001b[38;5;21;43m__init__\u001b[39;49m\u001b[43m(\u001b[49m\u001b[43mendog\u001b[49m\u001b[43m,\u001b[49m\u001b[43m \u001b[49m\u001b[43mexog\u001b[49m\u001b[43m,\u001b[49m\u001b[43m \u001b[49m\u001b[38;5;241;43m*\u001b[39;49m\u001b[38;5;241;43m*\u001b[39;49m\u001b[43mkwargs\u001b[49m\u001b[43m)\u001b[49m\n\u001b[1;32m    191\u001b[0m     \u001b[38;5;28mself\u001b[39m\u001b[38;5;241m.\u001b[39m_data_attr\u001b[38;5;241m.\u001b[39mextend([\u001b[38;5;124m'\u001b[39m\u001b[38;5;124mpinv_wexog\u001b[39m\u001b[38;5;124m'\u001b[39m, \u001b[38;5;124m'\u001b[39m\u001b[38;5;124mwendog\u001b[39m\u001b[38;5;124m'\u001b[39m, \u001b[38;5;124m'\u001b[39m\u001b[38;5;124mwexog\u001b[39m\u001b[38;5;124m'\u001b[39m, \u001b[38;5;124m'\u001b[39m\u001b[38;5;124mweights\u001b[39m\u001b[38;5;124m'\u001b[39m])\n",
      "File \u001b[0;32m~/anaconda3/envs/learn-env/lib/python3.8/site-packages/statsmodels/base/model.py:267\u001b[0m, in \u001b[0;36mLikelihoodModel.__init__\u001b[0;34m(self, endog, exog, **kwargs)\u001b[0m\n\u001b[1;32m    266\u001b[0m \u001b[38;5;28;01mdef\u001b[39;00m \u001b[38;5;21m__init__\u001b[39m(\u001b[38;5;28mself\u001b[39m, endog, exog\u001b[38;5;241m=\u001b[39m\u001b[38;5;28;01mNone\u001b[39;00m, \u001b[38;5;241m*\u001b[39m\u001b[38;5;241m*\u001b[39mkwargs):\n\u001b[0;32m--> 267\u001b[0m     \u001b[38;5;28;43msuper\u001b[39;49m\u001b[43m(\u001b[49m\u001b[43m)\u001b[49m\u001b[38;5;241;43m.\u001b[39;49m\u001b[38;5;21;43m__init__\u001b[39;49m\u001b[43m(\u001b[49m\u001b[43mendog\u001b[49m\u001b[43m,\u001b[49m\u001b[43m \u001b[49m\u001b[43mexog\u001b[49m\u001b[43m,\u001b[49m\u001b[43m \u001b[49m\u001b[38;5;241;43m*\u001b[39;49m\u001b[38;5;241;43m*\u001b[39;49m\u001b[43mkwargs\u001b[49m\u001b[43m)\u001b[49m\n\u001b[1;32m    268\u001b[0m     \u001b[38;5;28mself\u001b[39m\u001b[38;5;241m.\u001b[39minitialize()\n",
      "File \u001b[0;32m~/anaconda3/envs/learn-env/lib/python3.8/site-packages/statsmodels/base/model.py:92\u001b[0m, in \u001b[0;36mModel.__init__\u001b[0;34m(self, endog, exog, **kwargs)\u001b[0m\n\u001b[1;32m     90\u001b[0m missing \u001b[38;5;241m=\u001b[39m kwargs\u001b[38;5;241m.\u001b[39mpop(\u001b[38;5;124m'\u001b[39m\u001b[38;5;124mmissing\u001b[39m\u001b[38;5;124m'\u001b[39m, \u001b[38;5;124m'\u001b[39m\u001b[38;5;124mnone\u001b[39m\u001b[38;5;124m'\u001b[39m)\n\u001b[1;32m     91\u001b[0m hasconst \u001b[38;5;241m=\u001b[39m kwargs\u001b[38;5;241m.\u001b[39mpop(\u001b[38;5;124m'\u001b[39m\u001b[38;5;124mhasconst\u001b[39m\u001b[38;5;124m'\u001b[39m, \u001b[38;5;28;01mNone\u001b[39;00m)\n\u001b[0;32m---> 92\u001b[0m \u001b[38;5;28mself\u001b[39m\u001b[38;5;241m.\u001b[39mdata \u001b[38;5;241m=\u001b[39m \u001b[38;5;28;43mself\u001b[39;49m\u001b[38;5;241;43m.\u001b[39;49m\u001b[43m_handle_data\u001b[49m\u001b[43m(\u001b[49m\u001b[43mendog\u001b[49m\u001b[43m,\u001b[49m\u001b[43m \u001b[49m\u001b[43mexog\u001b[49m\u001b[43m,\u001b[49m\u001b[43m \u001b[49m\u001b[43mmissing\u001b[49m\u001b[43m,\u001b[49m\u001b[43m \u001b[49m\u001b[43mhasconst\u001b[49m\u001b[43m,\u001b[49m\n\u001b[1;32m     93\u001b[0m \u001b[43m                              \u001b[49m\u001b[38;5;241;43m*\u001b[39;49m\u001b[38;5;241;43m*\u001b[39;49m\u001b[43mkwargs\u001b[49m\u001b[43m)\u001b[49m\n\u001b[1;32m     94\u001b[0m \u001b[38;5;28mself\u001b[39m\u001b[38;5;241m.\u001b[39mk_constant \u001b[38;5;241m=\u001b[39m \u001b[38;5;28mself\u001b[39m\u001b[38;5;241m.\u001b[39mdata\u001b[38;5;241m.\u001b[39mk_constant\n\u001b[1;32m     95\u001b[0m \u001b[38;5;28mself\u001b[39m\u001b[38;5;241m.\u001b[39mexog \u001b[38;5;241m=\u001b[39m \u001b[38;5;28mself\u001b[39m\u001b[38;5;241m.\u001b[39mdata\u001b[38;5;241m.\u001b[39mexog\n",
      "File \u001b[0;32m~/anaconda3/envs/learn-env/lib/python3.8/site-packages/statsmodels/base/model.py:132\u001b[0m, in \u001b[0;36mModel._handle_data\u001b[0;34m(self, endog, exog, missing, hasconst, **kwargs)\u001b[0m\n\u001b[1;32m    131\u001b[0m \u001b[38;5;28;01mdef\u001b[39;00m \u001b[38;5;21m_handle_data\u001b[39m(\u001b[38;5;28mself\u001b[39m, endog, exog, missing, hasconst, \u001b[38;5;241m*\u001b[39m\u001b[38;5;241m*\u001b[39mkwargs):\n\u001b[0;32m--> 132\u001b[0m     data \u001b[38;5;241m=\u001b[39m \u001b[43mhandle_data\u001b[49m\u001b[43m(\u001b[49m\u001b[43mendog\u001b[49m\u001b[43m,\u001b[49m\u001b[43m \u001b[49m\u001b[43mexog\u001b[49m\u001b[43m,\u001b[49m\u001b[43m \u001b[49m\u001b[43mmissing\u001b[49m\u001b[43m,\u001b[49m\u001b[43m \u001b[49m\u001b[43mhasconst\u001b[49m\u001b[43m,\u001b[49m\u001b[43m \u001b[49m\u001b[38;5;241;43m*\u001b[39;49m\u001b[38;5;241;43m*\u001b[39;49m\u001b[43mkwargs\u001b[49m\u001b[43m)\u001b[49m\n\u001b[1;32m    133\u001b[0m     \u001b[38;5;66;03m# kwargs arrays could have changed, easier to just attach here\u001b[39;00m\n\u001b[1;32m    134\u001b[0m     \u001b[38;5;28;01mfor\u001b[39;00m key \u001b[38;5;129;01min\u001b[39;00m kwargs:\n",
      "File \u001b[0;32m~/anaconda3/envs/learn-env/lib/python3.8/site-packages/statsmodels/base/data.py:700\u001b[0m, in \u001b[0;36mhandle_data\u001b[0;34m(endog, exog, missing, hasconst, **kwargs)\u001b[0m\n\u001b[1;32m    697\u001b[0m     exog \u001b[38;5;241m=\u001b[39m np\u001b[38;5;241m.\u001b[39masarray(exog)\n\u001b[1;32m    699\u001b[0m klass \u001b[38;5;241m=\u001b[39m handle_data_class_factory(endog, exog)\n\u001b[0;32m--> 700\u001b[0m \u001b[38;5;28;01mreturn\u001b[39;00m \u001b[43mklass\u001b[49m\u001b[43m(\u001b[49m\u001b[43mendog\u001b[49m\u001b[43m,\u001b[49m\u001b[43m \u001b[49m\u001b[43mexog\u001b[49m\u001b[38;5;241;43m=\u001b[39;49m\u001b[43mexog\u001b[49m\u001b[43m,\u001b[49m\u001b[43m \u001b[49m\u001b[43mmissing\u001b[49m\u001b[38;5;241;43m=\u001b[39;49m\u001b[43mmissing\u001b[49m\u001b[43m,\u001b[49m\u001b[43m \u001b[49m\u001b[43mhasconst\u001b[49m\u001b[38;5;241;43m=\u001b[39;49m\u001b[43mhasconst\u001b[49m\u001b[43m,\u001b[49m\n\u001b[1;32m    701\u001b[0m \u001b[43m             \u001b[49m\u001b[38;5;241;43m*\u001b[39;49m\u001b[38;5;241;43m*\u001b[39;49m\u001b[43mkwargs\u001b[49m\u001b[43m)\u001b[49m\n",
      "File \u001b[0;32m~/anaconda3/envs/learn-env/lib/python3.8/site-packages/statsmodels/base/data.py:84\u001b[0m, in \u001b[0;36mModelData.__init__\u001b[0;34m(self, endog, exog, missing, hasconst, **kwargs)\u001b[0m\n\u001b[1;32m     82\u001b[0m     \u001b[38;5;28mself\u001b[39m\u001b[38;5;241m.\u001b[39morig_endog \u001b[38;5;241m=\u001b[39m endog\n\u001b[1;32m     83\u001b[0m     \u001b[38;5;28mself\u001b[39m\u001b[38;5;241m.\u001b[39morig_exog \u001b[38;5;241m=\u001b[39m exog\n\u001b[0;32m---> 84\u001b[0m     \u001b[38;5;28mself\u001b[39m\u001b[38;5;241m.\u001b[39mendog, \u001b[38;5;28mself\u001b[39m\u001b[38;5;241m.\u001b[39mexog \u001b[38;5;241m=\u001b[39m \u001b[38;5;28;43mself\u001b[39;49m\u001b[38;5;241;43m.\u001b[39;49m\u001b[43m_convert_endog_exog\u001b[49m\u001b[43m(\u001b[49m\u001b[43mendog\u001b[49m\u001b[43m,\u001b[49m\u001b[43m \u001b[49m\u001b[43mexog\u001b[49m\u001b[43m)\u001b[49m\n\u001b[1;32m     86\u001b[0m \u001b[38;5;28mself\u001b[39m\u001b[38;5;241m.\u001b[39mconst_idx \u001b[38;5;241m=\u001b[39m \u001b[38;5;28;01mNone\u001b[39;00m\n\u001b[1;32m     87\u001b[0m \u001b[38;5;28mself\u001b[39m\u001b[38;5;241m.\u001b[39mk_constant \u001b[38;5;241m=\u001b[39m \u001b[38;5;241m0\u001b[39m\n",
      "File \u001b[0;32m~/anaconda3/envs/learn-env/lib/python3.8/site-packages/statsmodels/base/data.py:530\u001b[0m, in \u001b[0;36mPandasData._convert_endog_exog\u001b[0;34m(self, endog, exog)\u001b[0m\n\u001b[1;32m    528\u001b[0m     \u001b[38;5;28;01melse\u001b[39;00m:\n\u001b[1;32m    529\u001b[0m         exog_dtype \u001b[38;5;241m=\u001b[39m \u001b[38;5;28;01mNone\u001b[39;00m\n\u001b[0;32m--> 530\u001b[0m     \u001b[38;5;28;01mraise\u001b[39;00m \u001b[38;5;167;01mValueError\u001b[39;00m(\n\u001b[1;32m    531\u001b[0m         \u001b[38;5;124m\"\u001b[39m\u001b[38;5;124mPandas data cast to numpy dtype of object. Check input data \u001b[39m\u001b[38;5;124m\"\u001b[39m\n\u001b[1;32m    532\u001b[0m         \u001b[38;5;124m\"\u001b[39m\u001b[38;5;124mwith np.asarray(data). The types seen were\u001b[39m\u001b[38;5;124m\"\u001b[39m\n\u001b[1;32m    533\u001b[0m         \u001b[38;5;124mf\u001b[39m\u001b[38;5;124m\"\u001b[39m\u001b[38;5;132;01m{\u001b[39;00mendog_dtype\u001b[38;5;132;01m}\u001b[39;00m\u001b[38;5;124m and \u001b[39m\u001b[38;5;132;01m{\u001b[39;00mexog_dtype\u001b[38;5;132;01m}\u001b[39;00m\u001b[38;5;124m. The data was\u001b[39m\u001b[38;5;130;01m\\n\u001b[39;00m\u001b[38;5;124m\"\u001b[39m\n\u001b[1;32m    534\u001b[0m         \u001b[38;5;124mf\u001b[39m\u001b[38;5;124m\"\u001b[39m\u001b[38;5;132;01m{\u001b[39;00morig_endog\u001b[38;5;132;01m}\u001b[39;00m\u001b[38;5;130;01m\\n\u001b[39;00m\u001b[38;5;124mand\u001b[39m\u001b[38;5;130;01m\\n\u001b[39;00m\u001b[38;5;124m \u001b[39m\u001b[38;5;132;01m{\u001b[39;00morig_exog\u001b[38;5;132;01m}\u001b[39;00m\u001b[38;5;130;01m\\n\u001b[39;00m\u001b[38;5;124mbefore. After,\u001b[39m\u001b[38;5;130;01m\\n\u001b[39;00m\u001b[38;5;132;01m{\u001b[39;00mendog\u001b[38;5;132;01m}\u001b[39;00m\u001b[38;5;130;01m\\n\u001b[39;00m\u001b[38;5;132;01m{\u001b[39;00mexog\u001b[38;5;132;01m}\u001b[39;00m\u001b[38;5;124m.\u001b[39m\u001b[38;5;124m\"\u001b[39m\n\u001b[1;32m    535\u001b[0m     )\n\u001b[1;32m    536\u001b[0m \u001b[38;5;28;01mreturn\u001b[39;00m \u001b[38;5;28msuper\u001b[39m(PandasData, \u001b[38;5;28mself\u001b[39m)\u001b[38;5;241m.\u001b[39m_convert_endog_exog(endog, exog)\n",
      "\u001b[0;31mValueError\u001b[0m: Pandas data cast to numpy dtype of object. Check input data with np.asarray(data). The types seen wereNone and const              float64\nid                   int64\nbedrooms             int64\nbathrooms          float64\nsqft_living          int64\nfloors             float64\nwaterfront          object\ngreenbelt           object\nnuisance            object\ncondition           object\ngrade               object\nheat_source         object\nsewer_system        object\nsqft_living_log    float64\ndtype: object. The data was\n0         675000.0\n1         920000.0\n3         775000.0\n4         592500.0\n5         625000.0\n           ...    \n30150    1555000.0\n30151    1313000.0\n30152     800000.0\n30153     775000.0\n30154     500000.0\nName: price, Length: 29164, dtype: float64\nand\n        const          id  bedrooms  bathrooms  sqft_living  floors waterfront  \\\n0        1.0  7399300360         4        1.0         1180     1.0         NO   \n1        1.0  8910500230         5        2.5         2770     1.0         NO   \n3        1.0  1604601802         3        3.0         2160     2.0         NO   \n4        1.0  8562780790         2        2.0         1120     2.0         NO   \n5        1.0  2807100156         2        1.0         1190     1.0         NO   \n...      ...         ...       ...        ...          ...     ...        ...   \n30150    1.0  7834800180         5        2.0         1910     1.5         NO   \n30151    1.0   194000695         3        2.0         2020     2.0         NO   \n30152    1.0  7960100080         3        2.0         1620     1.0         NO   \n30153    1.0  2781280080         3        2.5         2570     2.0         NO   \n30154    1.0  9557800100         3        1.5         1200     1.0         NO   \n\n      greenbelt nuisance condition      grade  heat_source sewer_system  \\\n0            NO       NO      Good  7 Average          Gas       PUBLIC   \n1            NO      YES   Average  7 Average          Oil       PUBLIC   \n3            NO       NO   Average   9 Better          Gas       PUBLIC   \n4            NO      YES   Average  7 Average  Electricity       PUBLIC   \n5            NO      YES   Average  7 Average  Electricity       PUBLIC   \n...         ...      ...       ...        ...          ...          ...   \n30150        NO       NO      Good     8 Good          Oil       PUBLIC   \n30151        NO       NO   Average  7 Average          Gas       PUBLIC   \n30152        NO      YES   Average  7 Average          Gas       PUBLIC   \n30153        NO       NO   Average     8 Good          Gas       PUBLIC   \n30154        NO       NO   Average  7 Average          Oil       PUBLIC   \n\n       sqft_living_log  \n0             7.073270  \n1             7.926603  \n3             7.677864  \n4             7.021084  \n5             7.081709  \n...                ...  \n30150         7.554859  \n30151         7.610853  \n30152         7.390181  \n30153         7.851661  \n30154         7.090077  \n\n[29164 rows x 14 columns]\nbefore. After,\n[675000. 920000. 775000. ... 800000. 775000. 500000.]\n[[1.0 7399300360 4 ... 'Gas' 'PUBLIC' 7.07326971745971]\n [1.0 8910500230 5 ... 'Oil' 'PUBLIC' 7.926602599181384]\n [1.0 1604601802 3 ... 'Gas' 'PUBLIC' 7.67786350067821]\n ...\n [1.0 7960100080 3 ... 'Gas' 'PUBLIC' 7.3901814282264295]\n [1.0 2781280080 3 ... 'Gas' 'PUBLIC' 7.851661177889265]\n [1.0 9557800100 3 ... 'Oil' 'PUBLIC' 7.090076835776092]]."
     ]
    }
   ],
   "source": [
    "#log for sqft_living to make the numbers more readable \n",
    "\n",
    "import pandas as pd\n",
    "import numpy as np\n",
    "import statsmodels.api as sm\n",
    "import matplotlib.pyplot as plt\n",
    "\n",
    "\n",
    "# Calculate the logarithm of 'sqft_living'\n",
    "df_cleaned['sqft_living_log'] = np.log(df_cleaned['sqft_living'])\n",
    "\n",
    "# Define the independent variables (X) and the dependent variable (y)\n",
    "X = df_cleaned.drop(columns=['price'])\n",
    "y = df_cleaned['price']\n",
    "\n",
    "# Add a constant to the independent variables matrix\n",
    "X = sm.add_constant(X)\n",
    "\n",
    "# Fit the multiple linear regression model\n",
    "model = sm.OLS(y, X).fit()\n",
    "\n",
    "# Get the coefficients from the model\n",
    "coefficients = model.params\n",
    "\n",
    "# Plot the coefficients\n",
    "plt.figure(figsize=(12, 8))\n",
    "coefficients.plot(kind='bar')\n",
    "plt.title(\"Regression Coefficients\")\n",
    "plt.ylabel(\"Coefficient Value\")\n",
    "plt.xticks(rotation=90, ha='right')\n",
    "plt.tight_layout()\n",
    "plt.show()\n",
    "\n",
    "\n",
    "\n",
    "\n",
    "\n"
   ]
  },
  {
   "cell_type": "code",
   "execution_count": null,
   "id": "ec087a24",
   "metadata": {},
   "outputs": [],
   "source": [
    "#shifting \n",
    "\n",
    "# Center the 'bathrooms' variable around its mean\n",
    "mean_bathrooms = df_cleaned['bathrooms'].mean()\n",
    "df_cleaned['centered_bathrooms'] = df_cleaned['bathrooms'] - mean_bathrooms\n",
    "\n",
    "\n",
    "# Define the independent variables (X) and the dependent variable (y)\n",
    "X = df_cleaned.drop(columns=['price'])\n",
    "y = df_cleaned['price']\n",
    "\n",
    "# Add a constant to the independent variables matrix\n",
    "X = sm.add_constant(X)\n",
    "\n",
    "# Fit the multiple linear regression model\n",
    "model = sm.OLS(y, X).fit()\n",
    "\n",
    "# Print the model summary\n",
    "print(model.summary())"
   ]
  },
  {
   "cell_type": "code",
   "execution_count": null,
   "id": "4a14f9ae",
   "metadata": {},
   "outputs": [],
   "source": [
    "print(df_cleaned.columns)\n"
   ]
  },
  {
   "cell_type": "code",
   "execution_count": null,
   "id": "498804e9",
   "metadata": {},
   "outputs": [],
   "source": [
    "# Count occurrences of the value 0 in the 'bedrooms' column\n",
    "zero_count = df_cleaned['bedrooms'].value_counts().get(0, 0)\n",
    "\n",
    "# Display the count of occurrences of 0 in the 'bedrooms' column\n",
    "print(\"Count of occurrences of 0 in 'bedrooms' column:\", zero_count)"
   ]
  },
  {
   "cell_type": "code",
   "execution_count": null,
   "id": "45cb9719",
   "metadata": {},
   "outputs": [],
   "source": [
    "df_cleaned = df_cleaned[(df_cleaned['bedrooms'] >= 2) & (df_cleaned['bedrooms'] <= 5)]\n",
    "\n",
    "\n",
    "# Print only the 'bedrooms' column from df_cleaned\n",
    "print(df_cleaned['bedrooms'])"
   ]
  },
  {
   "cell_type": "code",
   "execution_count": null,
   "id": "eb9e3be4",
   "metadata": {},
   "outputs": [],
   "source": [
    "\n",
    "# Count how many rows have exactly 2 bedroom\n",
    "count_one_br = (df_cleaned['bedrooms'] == 2).sum()\n",
    "\n",
    "# Print the count\n",
    "print(\"Number of rows with exactly 2 bedroom:\", count_one_br)\n"
   ]
  },
  {
   "cell_type": "code",
   "execution_count": null,
   "id": "88864eb6",
   "metadata": {},
   "outputs": [],
   "source": [
    "#sqft_living values\n",
    "\n",
    "\n",
    "# Display summary statistics for the 'sqft_living' column\n",
    "sqft_living_stats = df_cleaned['sqft_living'].describe()\n",
    "\n",
    "# Print the summary statistics\n",
    "print(sqft_living_stats)\n"
   ]
  },
  {
   "cell_type": "code",
   "execution_count": null,
   "id": "f30f1159",
   "metadata": {},
   "outputs": [],
   "source": [
    "# Display the bottom 50 'sqft_living' values in descending order\n",
    "bottom_50_sqft = df_cleaned[['sqft_living']].sort_values('sqft_living', ascending=False).tail(50)\n",
    "\n",
    "# Print the bottom 50 values\n",
    "print(\"Bottom 50 'sqft_living' values in descending order:\")\n",
    "print(bottom_50_sqft)\n",
    "\n"
   ]
  },
  {
   "cell_type": "code",
   "execution_count": null,
   "id": "329aa5e5",
   "metadata": {},
   "outputs": [],
   "source": [
    "# Remove rows with less than 1000 sqft_living\n",
    "df_cleaned = df_cleaned[df_cleaned['sqft_living'] >= 1000]\n",
    "\n",
    "# Print the filtered DataFrame\n",
    "print(df_cleaned)\n"
   ]
  },
  {
   "cell_type": "code",
   "execution_count": null,
   "id": "fdbfa313",
   "metadata": {},
   "outputs": [],
   "source": [
    "#checking to see if removal of under 1000 sqft_living \n",
    "\n",
    "sqft_living_stats = df_cleaned['sqft_living'].describe()\n",
    "print(sqft_living_stats)"
   ]
  },
  {
   "cell_type": "code",
   "execution_count": null,
   "id": "4fa32407",
   "metadata": {},
   "outputs": [],
   "source": [
    "plt.figure(figsize=(10, 6))\n",
    "plt.hist(df_cleaned['sqft_living'], bins=30, edgecolor='black', alpha=0.7)\n",
    "plt.title('Distribution of Sqft Living')\n",
    "plt.xlabel('Sqft Living')\n",
    "plt.ylabel('Frequency')\n",
    "plt.grid(True)\n",
    "plt.show()"
   ]
  },
  {
   "cell_type": "code",
   "execution_count": null,
   "id": "91b1e281",
   "metadata": {},
   "outputs": [],
   "source": [
    "# Calculate percentiles for the 'sqft_living' column\n",
    "percentiles = [0.25, 0.5, 0.75, 0.9, 0.95, 0.99]\n",
    "sqft_living_percentiles = df_cleaned['sqft_living'].describe(percentiles=percentiles)\n",
    "\n",
    "# Print the percentiles\n",
    "print(sqft_living_percentiles)\n"
   ]
  },
  {
   "cell_type": "code",
   "execution_count": null,
   "id": "98622f8f",
   "metadata": {},
   "outputs": [],
   "source": [
    "# Calculate the percentiles\n",
    "percentile_90 = df_cleaned['sqft_living'].quantile(0.9)\n",
    "percentile_95 = df_cleaned['sqft_living'].quantile(0.95)\n",
    "percentile_99 = df_cleaned['sqft_living'].quantile(0.99)\n",
    "\n",
    "# Count the number of homes over the percentiles\n",
    "homes_over_90_percentile = df_cleaned[df_cleaned['sqft_living'] > percentile_90]\n",
    "homes_over_95_percentile = df_cleaned[df_cleaned['sqft_living'] > percentile_95]\n",
    "homes_over_99_percentile = df_cleaned[df_cleaned['sqft_living'] > percentile_99]\n",
    "\n",
    "# Print the counts\n",
    "count_homes_over_90_percentile = len(homes_over_90_percentile)\n",
    "count_homes_over_95_percentile = len(homes_over_95_percentile)\n",
    "count_homes_over_99_percentile = len(homes_over_99_percentile)\n",
    "\n",
    "print(\"Number of homes with sqft_living over the 90th percentile:\", count_homes_over_90_percentile)\n",
    "print(\"Number of homes with sqft_living over the 95th percentile:\", count_homes_over_95_percentile)\n",
    "print(\"Number of homes with sqft_living over the 99th percentile:\", count_homes_over_99_percentile)\n",
    "\n"
   ]
  },
  {
   "cell_type": "code",
   "execution_count": null,
   "id": "cab453cf",
   "metadata": {},
   "outputs": [],
   "source": [
    "df_cleaned = df_cleaned[df_cleaned['sqft_living'] <= 4000]\n",
    "sqft_living_stats = df_cleaned['sqft_living'].describe()\n",
    "print(sqft_living_stats)"
   ]
  },
  {
   "cell_type": "code",
   "execution_count": null,
   "id": "38998a2b",
   "metadata": {},
   "outputs": [],
   "source": [
    "# Reviewing floor data\n",
    "\n",
    "plt.figure(figsize=(10, 10))\n",
    "plt.hist(df_cleaned['floors'], bins=30, edgecolor='black', alpha=0.7)\n",
    "plt.title('Distribution of floors')\n",
    "plt.xlabel('floors')\n",
    "plt.ylabel('Frequency')\n",
    "plt.grid(True)\n",
    "plt.show()"
   ]
  },
  {
   "cell_type": "code",
   "execution_count": null,
   "id": "b0d00cd9",
   "metadata": {},
   "outputs": [],
   "source": [
    "# Calculate percentiles for the 'floors' column\n",
    "percentiles = [0.25, 0.5, 0.75, 0.9, 0.95, 0.99]\n",
    "floor_percentiles = df_cleaned['floors'].describe(percentiles=percentiles)\n",
    "\n",
    "# Print the percentiles\n",
    "print(floor_percentiles)"
   ]
  },
  {
   "cell_type": "code",
   "execution_count": null,
   "id": "6bfe2cf4",
   "metadata": {},
   "outputs": [],
   "source": [
    "import pandas as pd\n",
    "import matplotlib.pyplot as plt\n",
    "\n",
    "plt.figure(figsize=(8, 6))\n",
    "plt.boxplot(df_cleaned['floors'])\n",
    "plt.title('Box Plot of Floors')\n",
    "plt.xlabel('Floors')\n",
    "plt.ylabel('Count')\n",
    "plt.show()\n"
   ]
  },
  {
   "cell_type": "code",
   "execution_count": null,
   "id": "bb02b1e3",
   "metadata": {},
   "outputs": [],
   "source": [
    "\n",
    "# Count the number of houses with over 3 floors, including 3.5\n",
    "count_over_3_floors = df_cleaned[df_cleaned['floors'] >= 3].shape[0]\n",
    "\n",
    "# Print the count\n",
    "print(\"Number of houses with over 3 floors, including 3.5:\", count_over_3_floors)\n"
   ]
  },
  {
   "cell_type": "code",
   "execution_count": null,
   "id": "2c03b7f1",
   "metadata": {},
   "outputs": [],
   "source": [
    "\n",
    "# Count the number of houses with 3.5 floors or more\n",
    "count_3_5_floors = df_cleaned[df_cleaned['floors'] >= 3.5].shape[0]\n",
    "\n",
    "# Print the count\n",
    "print(\"Number of houses with 3.5 floors or more:\", count_3_5_floors)\n"
   ]
  },
  {
   "cell_type": "code",
   "execution_count": null,
   "id": "911d073d",
   "metadata": {},
   "outputs": [],
   "source": [
    "#Removing houses with 3 or more floors\n",
    "# Filter the DataFrame to include only houses with 3 floors or less\n",
    "df_cleaned = df_cleaned[df_cleaned['floors'] <= 3]\n",
    "\n",
    "# Print the filtered DataFrame\n",
    "print(df_cleaned)\n",
    "\n",
    "\n"
   ]
  },
  {
   "cell_type": "code",
   "execution_count": null,
   "id": "9584df91",
   "metadata": {},
   "outputs": [],
   "source": [
    "#price values\n",
    "\n",
    "\n",
    "# Display summary statistics for the 'price' column\n",
    "price = df_cleaned['price'].describe()\n",
    "\n",
    "# Print the summary statistics\n",
    "print(price)\n"
   ]
  },
  {
   "cell_type": "code",
   "execution_count": null,
   "id": "e3a45bc1",
   "metadata": {},
   "outputs": [],
   "source": [
    "\n",
    "\n",
    "# Set the display format for float values\n",
    "pd.options.display.float_format = '{:.2f}'.format\n",
    "\n",
    "# Display the summary statistics for the 'price' column\n",
    "print(df_cleaned['price'].describe())\n"
   ]
  },
  {
   "cell_type": "code",
   "execution_count": null,
   "id": "ee34ea03",
   "metadata": {},
   "outputs": [],
   "source": [
    "# Calculate percentiles for the 'price' column\n",
    "percentiles = [0.25, 0.5, 0.75, 0.9, 0.95, 0.99]\n",
    "price_percentiles = df_cleaned['price'].describe(percentiles=percentiles)\n",
    "\n",
    "# Print the percentiles\n",
    "print(price_percentiles)"
   ]
  },
  {
   "cell_type": "code",
   "execution_count": null,
   "id": "1e10c613",
   "metadata": {},
   "outputs": [],
   "source": [
    "# Calculate the 10th percentile value\n",
    "q10 = df_cleaned['price'].quantile(0.10)\n",
    "\n",
    "# Count the number of homes with a price below the 10th percentile\n",
    "num_homes_below_q10 = df_cleaned[df_cleaned['price'] < q10]['price'].count()\n",
    "\n",
    "print(\"Number of homes below the 10th percentile:\", num_homes_below_q10)\n"
   ]
  },
  {
   "cell_type": "code",
   "execution_count": null,
   "id": "64164db5",
   "metadata": {},
   "outputs": [],
   "source": [
    "# Calculate the 75th percentile value\n",
    "q3 = df_cleaned['price'].quantile(0.75)\n",
    "\n",
    "# Count the number of homes with a price over the 75th percentile\n",
    "num_homes_over_q3 = df_cleaned[df_cleaned['price'] > q3]['price'].count()\n",
    "\n",
    "print(\"Number of homes over the 75th percentile:\", num_homes_over_q3)\n"
   ]
  },
  {
   "cell_type": "code",
   "execution_count": null,
   "id": "6ada8cfe",
   "metadata": {},
   "outputs": [],
   "source": [
    "# Calculate the 90th percentile value\n",
    "q90 = df_cleaned['price'].quantile(0.90)\n",
    "\n",
    "# Count the number of homes with a price over the 90th percentile\n",
    "num_homes_over_q90 = df_cleaned[df_cleaned['price'] > q90]['price'].count()\n",
    "\n",
    "print(\"Number of homes over the 90th percentile:\", num_homes_over_q90)\n"
   ]
  },
  {
   "cell_type": "code",
   "execution_count": null,
   "id": "6a97e49f",
   "metadata": {},
   "outputs": [],
   "source": [
    "# Calculate the 95th percentile value\n",
    "q95 = df_cleaned['price'].quantile(0.95)\n",
    "\n",
    "# Count the number of homes with a price over the 95th percentile\n",
    "num_homes_over_q95 = df_cleaned[df_cleaned['price'] > q95]['price'].count()\n",
    "\n",
    "print(\"Number of homes over the 95th percentile:\", num_homes_over_q95)\n"
   ]
  },
  {
   "cell_type": "code",
   "execution_count": null,
   "id": "cdd5ac06",
   "metadata": {},
   "outputs": [],
   "source": [
    "# Calculate the 10th and 90th percentile values\n",
    "q10 = df_cleaned['price'].quantile(0.10)\n",
    "q90 = df_cleaned['price'].quantile(0.90)\n",
    "\n",
    "# Create a new DataFrame with houses within the 10th to 90th percentile price range\n",
    "df_cleaned = df_cleaned[(df_cleaned['price'] >= q10) & (df_cleaned['price'] <= q90)]\n",
    "\n",
    "# Print the summary statistics for the filtered DataFrame\n",
    "print(df_cleaned['price'].describe())\n"
   ]
  },
  {
   "cell_type": "code",
   "execution_count": null,
   "id": "65b9200c",
   "metadata": {},
   "outputs": [],
   "source": [
    "all_columns = df_cleaned.columns\n",
    "print(all_columns)\n"
   ]
  },
  {
   "cell_type": "code",
   "execution_count": null,
   "id": "0f78bafd",
   "metadata": {},
   "outputs": [],
   "source": [
    "\n",
    "# Create a scatter plot\n",
    "plt.figure(figsize=(10, 6))\n",
    "sns.scatterplot(x=df_cleaned['bathrooms'], y=df_cleaned['price'])\n",
    "plt.title('Scatter Plot of Bathrooms vs Price')\n",
    "plt.xlabel('Number of Bathrooms')\n",
    "plt.ylabel('Price')\n",
    "plt.show()\n"
   ]
  },
  {
   "cell_type": "code",
   "execution_count": null,
   "id": "8e1cf23e",
   "metadata": {},
   "outputs": [],
   "source": [
    "# Calculate percentiles for the 'bathrooms' column\n",
    "percentiles = [0.25, 0.5, 0.75, 0.9, 0.95, 0.99]\n",
    "bathrooms_percentiles = df_cleaned['bathrooms'].describe(percentiles=percentiles)\n",
    "\n",
    "# Print the percentiles\n",
    "print(bathrooms_percentiles)"
   ]
  },
  {
   "cell_type": "code",
   "execution_count": null,
   "id": "e021bfb4",
   "metadata": {},
   "outputs": [],
   "source": [
    "# Count the number of houses with more than 3.5 bathrooms\n",
    "num_houses_over_3_5_bathrooms = (df_cleaned['bathrooms'] > 3.5).sum()\n",
    "\n",
    "# Print the result\n",
    "print(\"Number of houses with more than 3.5 bathrooms:\", num_houses_over_3_5_bathrooms)\n"
   ]
  },
  {
   "cell_type": "code",
   "execution_count": null,
   "id": "2c0df7c1",
   "metadata": {},
   "outputs": [],
   "source": [
    "# Count the number of houses with less than 1 bathroom\n",
    "num_houses_under_1_bathroom = (df_cleaned['bathrooms'] < 1).sum()\n",
    "\n",
    "# Print the result\n",
    "print(\"Number of houses with less than 1 bathroom:\", num_houses_under_1_bathroom)\n"
   ]
  },
  {
   "cell_type": "code",
   "execution_count": null,
   "id": "f7ab958b",
   "metadata": {},
   "outputs": [],
   "source": [
    "# Remove houses with more than 4 bathrooms and less than 1 bathroom\n",
    "df_cleaned = df_cleaned[(df_cleaned['bathrooms'] >= 1) & (df_cleaned['bathrooms'] <= 4)]\n",
    "\n",
    "# Print the shape of the filtered DataFrame to see how many rows are left\n",
    "print(\"Number of rows after filtering:\", df_cleaned.shape[0])\n"
   ]
  },
  {
   "cell_type": "code",
   "execution_count": null,
   "id": "78339350",
   "metadata": {},
   "outputs": [],
   "source": [
    "\n",
    "# Create a scatter plot\n",
    "plt.figure(figsize=(10, 6))\n",
    "sns.scatterplot(x=df_cleaned['bathrooms'], y=df_cleaned['price'])\n",
    "plt.title('Scatter Plot of Bathrooms vs Price')\n",
    "plt.xlabel('Number of Bathrooms')\n",
    "plt.ylabel('Price')\n",
    "plt.show()"
   ]
  },
  {
   "cell_type": "code",
   "execution_count": null,
   "id": "a18ac4fe",
   "metadata": {},
   "outputs": [],
   "source": [
    "\n",
    "# List of columns to include in the pair plot\n",
    "columns_for_pairplot = [\n",
    "    'price', 'bedrooms', 'bathrooms', 'sqft_living', 'floors'\n",
    "]\n",
    "\n",
    "# Create a pair plot using Seaborn\n",
    "sns.set(style='ticks')\n",
    "sns.pairplot(df_cleaned[columns_for_pairplot], diag_kind='kde')\n",
    "plt.show()\n"
   ]
  },
  {
   "cell_type": "code",
   "execution_count": null,
   "id": "3c4084e2",
   "metadata": {},
   "outputs": [],
   "source": []
  }
 ],
 "metadata": {
  "kernelspec": {
   "display_name": "Python 3 (ipykernel)",
   "language": "python",
   "name": "python3"
  },
  "language_info": {
   "codemirror_mode": {
    "name": "ipython",
    "version": 3
   },
   "file_extension": ".py",
   "mimetype": "text/x-python",
   "name": "python",
   "nbconvert_exporter": "python",
   "pygments_lexer": "ipython3",
   "version": "3.8.16"
  }
 },
 "nbformat": 4,
 "nbformat_minor": 5
}
